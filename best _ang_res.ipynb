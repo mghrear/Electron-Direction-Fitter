{
 "cells": [
  {
   "cell_type": "code",
   "execution_count": null,
   "metadata": {},
   "outputs": [],
   "source": [
    "import pandas as pd\n",
    "import numpy as np\n",
    "import torch\n"
   ]
  },
  {
   "cell_type": "code",
   "execution_count": null,
   "metadata": {},
   "outputs": [],
   "source": [
    "# Specify location of data file\n",
    "data_loc = '/Users/majdghrear/data/e_dir_fit'\n",
    "\n",
    "# The data is stored in 100 pickle files each containing 10k electron recoil simulations\n",
    "files_e = [data_loc+'/3D_processed_data/processed_recoils_'+str(i)+'.pk' for i in range(100) ]"
   ]
  },
  {
   "cell_type": "code",
   "execution_count": null,
   "metadata": {},
   "outputs": [],
   "source": [
    "eff_l = 3.0\n",
    "\n",
    "# Loop through files\n",
    "ind = 0 \n",
    "for file in files_e:\n",
    "\n",
    "\t# Read root file\n",
    "\tdf = pd.read_pickle(file)\n",
    "\n",
    "\t# Lists to store sparse tensors and corresponding labels\n",
    "\tlabels = []\n",
    "\tsparse_tensors = []\n",
    "\n",
    "\tfor index, row in df.iterrows():\n",
    "\n",
    "\t\t# Loop through recoils\n",
    "\t\t# Keep only points within opt length of the starting point\n",
    "\t\t# used SVD to fit and get v_SVD\n",
    "\t\t# Generate random direction, v_rand\n",
    "\t\t# v1 = vrand x vtrue\n",
    "\t\t# v2 = v1 x vtrue\n",
    "\t\t# project v_SVD onto the v1,vtrue plane and v2,vtrue plane\n",
    "\t\t# Obtain ang3D ang2D1 and ang2D2, later we fit these to a gaussian, compare tha to the original result as well as the CNN result. \n",
    "\n",
    "\t\t# If recoil escapes fiducial area, skip it\n",
    "\t\tif np.max(row['x']) >= eff_l or np.min(row['x']) < -eff_l or np.max(row['y']) >= eff_l or np.min(row['y']) < -eff_l or np.max(row['z']) >= eff_l or np.min(row['z']) < -eff_l:\n",
    "\t\t\tcontinue\n",
    "\n",
    "\t\t# Initialize empty dense tensor\n",
    "\t\tvoxelgrid = np.zeros(dim).astype('uint8')\n",
    "\n",
    "\t\t# Loop the x, y, z positions in the recoil and fill in the dense tensor\n",
    "\t\tfor x,y,z in zip(row['x'],row['y'],row['z']):\n",
    "\t\t\tvoxelgrid[int((x+eff_l)/vox_l)][int((y+eff_l)/vox_l)][int((z+eff_l)/vox_l)][0] += 1\n",
    "\n",
    "\t\t# Convert to pytorch tensor\n",
    "\t\tvoxelgrid = torch.tensor(voxelgrid)\n",
    "\t\t# Convert to sparse pytorch tensor\n",
    "\t\tvg = voxelgrid.to_sparse()\n",
    "\n",
    "\t\t# Store sparse tensor and corresponding label\n",
    "\t\tsparse_tensors += [vg]\n",
    "\t\tlabels += [row['dir']]\n",
    "\n",
    "\t# Save sparse tensors and labels\n",
    "\ttorch.save( sparse_tensors, data_loc+'/3D_sparse_tensors/sparse_recoils_'+str(ind)+'.pt')\n",
    "\tnp.savetxt(data_loc+'/3D_sparse_tensors/labels_'+str(ind)+'.pt',labels)\n",
    "\n",
    "\tprint(\"Progress: \", ind, '/99')\n",
    "\n",
    "\tind += 1\n"
   ]
  }
 ],
 "metadata": {
  "kernelspec": {
   "display_name": "Python 3.7.3 ('my_root_env')",
   "language": "python",
   "name": "python3"
  },
  "language_info": {
   "name": "python",
   "version": "3.7.3"
  },
  "orig_nbformat": 4,
  "vscode": {
   "interpreter": {
    "hash": "e137a2665c242313c11d472736bb1efbdaf7608c607fce3fc4f47a32817024ba"
   }
  }
 },
 "nbformat": 4,
 "nbformat_minor": 2
}
