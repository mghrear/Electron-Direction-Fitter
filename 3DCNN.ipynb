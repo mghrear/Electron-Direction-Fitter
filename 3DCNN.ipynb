{
 "cells": [
  {
   "cell_type": "code",
   "execution_count": 1,
   "id": "cd158c05-d09a-47e1-8881-b8961a269998",
   "metadata": {},
   "outputs": [
    {
     "name": "stderr",
     "output_type": "stream",
     "text": [
      "2022-08-18 04:19:13.868822: I tensorflow/stream_executor/platform/default/dso_loader.cc:49] Successfully opened dynamic library libcudart.so.10.1\n",
      "/home/majd/.conda/envs/myenv/lib/python3.9/site-packages/scipy/__init__.py:146: UserWarning: A NumPy version >=1.16.5 and <1.23.0 is required for this version of SciPy (detected version 1.23.1\n",
      "  warnings.warn(f\"A NumPy version >={np_minversion} and <{np_maxversion}\"\n"
     ]
    }
   ],
   "source": [
    "import numpy as np\n",
    "import matplotlib.pyplot as plt\n",
    "from mpl_toolkits.mplot3d import Axes3D\n",
    "\n",
    "import torch\n",
    "import tensorflow as tf \n",
    "import keras\n",
    "\n",
    "from keras.models import Sequential\n",
    "from keras.layers import Conv3D, MaxPooling3D, Dense, Dropout, Activation, Input, Flatten\n",
    "from keras.utils import np_utils\n",
    "from keras.regularizers import l2\n",
    "from keras.callbacks import EarlyStopping\n",
    "from keras import backend as K\n",
    "from sklearn.model_selection import train_test_split\n"
   ]
  },
  {
   "cell_type": "code",
   "execution_count": 2,
   "id": "a68823dc-290e-440c-abfe-14ece4177437",
   "metadata": {},
   "outputs": [],
   "source": [
    "# First Load the data\n",
    "\n",
    "file_loc = '/home/majd/3D_sparse_tensors'\n",
    "\n",
    "#Collect file names\n",
    "files_sp = []\n",
    "files_lb = []\n",
    "for i in range(100):\n",
    "    files_sp += ['/home/majd/3D_sparse_tensors'+'/sparse_recoils_'+str(i)+'.pt']\n",
    "    files_lb += ['/home/majd/3D_sparse_tensors'+'/labels_'+str(i)+'.pt']\n",
    "    \n",
    "# Load data. X is a list of the sparse tensors and Y is a list of the corresponding true directions\n",
    "X = []\n",
    "Y = []\n",
    "\n",
    "for sp,lb in zip(files_sp,files_lb):\n",
    "    X += torch.load(sp)\n",
    "    Y += np.loadtxt(lb).tolist()\n",
    "\n",
    "# Note: a list of sparse tensors can not be converted into an array. A list of dense tensors can.\n"
   ]
  },
  {
   "cell_type": "code",
   "execution_count": 3,
   "id": "563268a0-63ce-4fc8-9653-91d556ef709b",
   "metadata": {},
   "outputs": [
    {
     "name": "stdout",
     "output_type": "stream",
     "text": [
      "480765 160255 160255\n"
     ]
    }
   ],
   "source": [
    "# Break into train and test sets\n",
    "# There is no need to permute as they are already randomized \n",
    "\n",
    "split1 = int(0.6*len(X))\n",
    "split2 = int(0.8*len(X))\n",
    "\n",
    "X_train = X[:split1]\n",
    "X_valid = X[split1:split2]\n",
    "X_test = X[split2:]\n",
    "\n",
    "Y_train = Y[:split1]\n",
    "Y_valid = Y[split1:split2]\n",
    "Y_test = Y[split2:]\n",
    "\n",
    "print(len(X_train),len(X_valid),len(X_test))"
   ]
  },
  {
   "cell_type": "code",
   "execution_count": 4,
   "id": "1a7bf7cc-e262-463c-8594-59715210b228",
   "metadata": {},
   "outputs": [],
   "source": [
    "# data generator to yield both train and validation data.\n",
    "# it takes ~0.36s to serve up a batch of 200  \n",
    "def data_generator(X, Y, batchsize):\n",
    "    N = len(X)\n",
    "    while True:\n",
    "        # We must use a for loop here as a list of sparse tensors may not be converted into an array\n",
    "        indices = np.random.randint(low=0, high=N, size=(batchsize,))\n",
    "        X1 = np.array( [(X[index].to_dense()).detach().numpy() for index in indices] )\n",
    "        Y1 = np.array( [Y[index] for index in indices] )\n",
    "        \n",
    "        # yield tensors and directions\n",
    "        yield X1, Y1\n",
    "        \n",
    "# Create generators.\n",
    "batchsize  = 150\n",
    "data_train = data_generator(X_train, Y_train, batchsize)\n",
    "data_valid = data_generator(X_valid, Y_valid, batchsize)"
   ]
  },
  {
   "cell_type": "code",
   "execution_count": 5,
   "id": "fcddd97e-6068-4ac5-a9d2-1f07cb518d16",
   "metadata": {},
   "outputs": [],
   "source": [
    "# inputs, outputs = data_train.__next__()\n",
    "\n",
    "# print(inputs.shape)\n",
    "# print(outputs.shape)"
   ]
  },
  {
   "cell_type": "code",
   "execution_count": 6,
   "id": "dbf87ff5-9373-49b1-9905-14175019b5f3",
   "metadata": {},
   "outputs": [],
   "source": [
    "def cust_act(x):\n",
    "    return tf.keras.backend.l2_normalize(x, axis=1)"
   ]
  },
  {
   "cell_type": "code",
   "execution_count": 7,
   "id": "72fdcb32-7736-4402-a08b-6d30d7e80cbc",
   "metadata": {},
   "outputs": [],
   "source": [
    "# Creat agent with keras\n",
    "\n",
    "class Agent():\n",
    "    \n",
    "    def __init__(self, learning_rate=0.001, beta_1=0.9, beta_2=0.999, epsilon=1e-07):\n",
    "        # Define CNN architecture here\n",
    "        # We will use a sequential model\n",
    "        self.model = Sequential()\n",
    "        \n",
    "        # Start with Convolutional Layer and max pooling     \n",
    "        self.model.add(Conv3D(50, kernel_size=(6,6,6), strides=(2,2,2), padding = 'same', activation='relu', input_shape=(120, 120, 120, 1)))\n",
    "        self.model.add(MaxPooling3D(pool_size=(2,2,2)))\n",
    "        \n",
    "        self.model.add(Conv3D(30, kernel_size=(4,4,4), strides=(1,1,1), padding = 'same', activation='relu'))        \n",
    "        self.model.add(Conv3D(20, kernel_size=(3,3,3), strides=(1,1,1), padding = 'same', activation='relu'))\n",
    "        \n",
    "        self.model.add(MaxPooling3D(pool_size=(2,2,2)))\n",
    "        \n",
    "        # Flatten the data\n",
    "        self.model.add(Flatten())\n",
    "        \n",
    "        # Dense Layer\n",
    "        self.model.add(Dense(100, activation='relu'))\n",
    "        \n",
    "        self.model.add(Dense(30, activation='tanh'))\n",
    "        \n",
    "        # Output Layer\n",
    "        self.model.add(Dense(3, activation=cust_act))\n",
    "        \n",
    "        # Print CNN architecture summary\n",
    "        self.model.summary()\n",
    "        \n",
    "        # Specificy the optimizer\n",
    "        opt=tf.keras.optimizers.Adam(learning_rate=learning_rate, beta_1=beta_1, beta_2=beta_2, epsilon=epsilon, amsgrad=False, name=\"adam\")\n",
    "        \n",
    "        # Initialize model\n",
    "        self.model.compile(loss=tf.keras.losses.CosineSimilarity(axis=1), optimizer=opt)\n",
    "\n",
    "\n",
    "    def train(self, data_train,data_valid):\n",
    "        \n",
    "        # Implement early stopping to avoild overfitting\n",
    "        stopping  = keras.callbacks.EarlyStopping(monitor='val_loss', patience=2, verbose=0, mode='auto')\n",
    "        callbacks = [stopping]\n",
    "        \n",
    "        # train the model\n",
    "        history = self.model.fit_generator(generator=data_train, steps_per_epoch=100, epochs=200, verbose=1, callbacks=callbacks, validation_data=data_valid, validation_steps=100)\n",
    "        \n",
    "        return history\n",
    "\n",
    "    def predict(self,images):\n",
    "                \n",
    "        # predict initial direction\n",
    "        pred = self.model.predict(images)\n",
    "        \n",
    "        return pred\n",
    "\n"
   ]
  },
  {
   "cell_type": "code",
   "execution_count": 9,
   "id": "34f37da4-c5b6-4f0a-b30d-6b165aedc537",
   "metadata": {},
   "outputs": [
    {
     "name": "stdout",
     "output_type": "stream",
     "text": [
      "Model: \"sequential_1\"\n",
      "_________________________________________________________________\n",
      "Layer (type)                 Output Shape              Param #   \n",
      "=================================================================\n",
      "conv3d_3 (Conv3D)            (None, 60, 60, 60, 50)    10850     \n",
      "_________________________________________________________________\n",
      "max_pooling3d_2 (MaxPooling3 (None, 30, 30, 30, 50)    0         \n",
      "_________________________________________________________________\n",
      "conv3d_4 (Conv3D)            (None, 30, 30, 30, 30)    96030     \n",
      "_________________________________________________________________\n",
      "conv3d_5 (Conv3D)            (None, 30, 30, 30, 20)    16220     \n",
      "_________________________________________________________________\n",
      "max_pooling3d_3 (MaxPooling3 (None, 15, 15, 15, 20)    0         \n",
      "_________________________________________________________________\n",
      "flatten_1 (Flatten)          (None, 67500)             0         \n",
      "_________________________________________________________________\n",
      "dense_3 (Dense)              (None, 100)               6750100   \n",
      "_________________________________________________________________\n",
      "dense_4 (Dense)              (None, 30)                3030      \n",
      "_________________________________________________________________\n",
      "dense_5 (Dense)              (None, 3)                 93        \n",
      "=================================================================\n",
      "Total params: 6,876,323\n",
      "Trainable params: 6,876,323\n",
      "Non-trainable params: 0\n",
      "_________________________________________________________________\n"
     ]
    }
   ],
   "source": [
    "# Create agent object\n",
    "agent = Agent(learning_rate=0.001, beta_1=0.94, beta_2=0.999, epsilon=1e-07) #Specify Optimizer hyperparameters"
   ]
  },
  {
   "cell_type": "code",
   "execution_count": 10,
   "id": "6210fd8d-2226-4157-bced-1b3e190eda49",
   "metadata": {},
   "outputs": [
    {
     "name": "stderr",
     "output_type": "stream",
     "text": [
      "/home/majd/.conda/envs/myenv/lib/python3.9/site-packages/tensorflow/python/keras/engine/training.py:1844: UserWarning: `Model.fit_generator` is deprecated and will be removed in a future version. Please use `Model.fit`, which supports generators.\n",
      "  warnings.warn('`Model.fit_generator` is deprecated and '\n",
      "2022-08-18 04:21:26.580976: I tensorflow/compiler/mlir/mlir_graph_optimization_pass.cc:116] None of the MLIR optimization passes are enabled (registered 2)\n",
      "2022-08-18 04:21:26.581467: I tensorflow/core/platform/profile_utils/cpu_utils.cc:112] CPU Frequency: 3000000000 Hz\n"
     ]
    },
    {
     "name": "stdout",
     "output_type": "stream",
     "text": [
      "Epoch 1/200\n"
     ]
    },
    {
     "name": "stderr",
     "output_type": "stream",
     "text": [
      "2022-08-18 04:21:26.967924: I tensorflow/stream_executor/platform/default/dso_loader.cc:49] Successfully opened dynamic library libcublas.so.10\n",
      "2022-08-18 04:21:27.335013: W tensorflow/core/kernels/gpu_utils.cc:49] Failed to allocate memory for convolution redzone checking; skipping this check. This is benign and only means that we won't check cudnn for out-of-bounds reads and writes. This message will only be printed once.\n",
      "2022-08-18 04:21:27.335151: I tensorflow/stream_executor/platform/default/dso_loader.cc:49] Successfully opened dynamic library libcudnn.so.7\n",
      "2022-08-18 04:21:30.067837: W tensorflow/stream_executor/gpu/asm_compiler.cc:63] Running ptxas --version returned 256\n",
      "2022-08-18 04:21:31.047712: W tensorflow/stream_executor/gpu/redzone_allocator.cc:314] Internal: ptxas exited with non-zero error code 256, output: \n",
      "Relying on driver to perform ptx compilation. \n",
      "Modify $PATH to customize ptxas location.\n",
      "This message will be only logged once.\n"
     ]
    },
    {
     "name": "stdout",
     "output_type": "stream",
     "text": [
      "100/100 [==============================] - 200s 2s/step - loss: -0.2798 - val_loss: -0.3565\n",
      "Epoch 2/200\n",
      "100/100 [==============================] - 164s 2s/step - loss: -0.4125 - val_loss: -0.4568\n",
      "Epoch 3/200\n",
      "100/100 [==============================] - 164s 2s/step - loss: -0.4647 - val_loss: -0.5013\n",
      "Epoch 4/200\n",
      "100/100 [==============================] - 164s 2s/step - loss: -0.5126 - val_loss: -0.5054\n",
      "Epoch 5/200\n",
      "100/100 [==============================] - 164s 2s/step - loss: -0.5891 - val_loss: -0.6695\n",
      "Epoch 6/200\n",
      "100/100 [==============================] - 164s 2s/step - loss: -0.6815 - val_loss: -0.7159\n",
      "Epoch 7/200\n",
      "100/100 [==============================] - 163s 2s/step - loss: -0.7376 - val_loss: -0.7442\n",
      "Epoch 8/200\n",
      "100/100 [==============================] - 163s 2s/step - loss: -0.7657 - val_loss: -0.7968\n",
      "Epoch 9/200\n",
      "100/100 [==============================] - 164s 2s/step - loss: -0.8076 - val_loss: -0.8115\n",
      "Epoch 10/200\n",
      "100/100 [==============================] - 163s 2s/step - loss: -0.8207 - val_loss: -0.8246\n",
      "Epoch 11/200\n",
      "100/100 [==============================] - 163s 2s/step - loss: -0.8380 - val_loss: -0.8437\n",
      "Epoch 12/200\n",
      "100/100 [==============================] - 163s 2s/step - loss: -0.8402 - val_loss: -0.8390\n",
      "Epoch 13/200\n",
      "100/100 [==============================] - 163s 2s/step - loss: -0.8557 - val_loss: -0.8533\n",
      "Epoch 14/200\n",
      "100/100 [==============================] - 163s 2s/step - loss: -0.8596 - val_loss: -0.8530\n",
      "Epoch 15/200\n",
      "100/100 [==============================] - 163s 2s/step - loss: -0.8646 - val_loss: -0.8606\n",
      "Epoch 16/200\n",
      "100/100 [==============================] - 163s 2s/step - loss: -0.8690 - val_loss: -0.8648\n",
      "Epoch 17/200\n",
      "100/100 [==============================] - 163s 2s/step - loss: -0.8762 - val_loss: -0.8711\n",
      "Epoch 18/200\n",
      "100/100 [==============================] - 163s 2s/step - loss: -0.8712 - val_loss: -0.8680\n",
      "Epoch 19/200\n",
      "100/100 [==============================] - 163s 2s/step - loss: -0.8682 - val_loss: -0.8718\n",
      "Epoch 20/200\n",
      "100/100 [==============================] - 163s 2s/step - loss: -0.8780 - val_loss: -0.8726\n",
      "Epoch 21/200\n",
      "100/100 [==============================] - 163s 2s/step - loss: -0.8762 - val_loss: -0.8741\n",
      "Epoch 22/200\n",
      "100/100 [==============================] - 163s 2s/step - loss: -0.8825 - val_loss: -0.8721\n",
      "Epoch 23/200\n",
      "100/100 [==============================] - 163s 2s/step - loss: -0.8820 - val_loss: -0.8758\n",
      "Epoch 24/200\n",
      "100/100 [==============================] - 161s 2s/step - loss: -0.8843 - val_loss: -0.8771\n",
      "Epoch 25/200\n",
      "100/100 [==============================] - 163s 2s/step - loss: -0.8860 - val_loss: -0.8718\n",
      "Epoch 26/200\n",
      "100/100 [==============================] - 163s 2s/step - loss: -0.8857 - val_loss: -0.8655\n"
     ]
    }
   ],
   "source": [
    "# Train the agent\n",
    "history = agent.train(data_train,data_valid)"
   ]
  },
  {
   "cell_type": "code",
   "execution_count": 11,
   "id": "5e20bf63-4197-4de3-aace-8ce715d3022d",
   "metadata": {},
   "outputs": [
    {
     "data": {
      "text/plain": [
       "<matplotlib.legend.Legend at 0x2b31c0222910>"
      ]
     },
     "execution_count": 11,
     "metadata": {},
     "output_type": "execute_result"
    },
    {
     "data": {
      "image/png": "[encoded data removed]",
      "text/plain": [
       "<Figure size 432x288 with 1 Axes>"
      ]
     },
     "metadata": {
      "needs_background": "light"
     },
     "output_type": "display_data"
    }
   ],
   "source": [
    "# Plot loss trajectory throughout training.\n",
    "plt.figure()\n",
    "plt.plot(history.history['loss'], label='Training')\n",
    "plt.plot(history.history['val_loss'], label='Validation')\n",
    "plt.xlabel('Epochs')\n",
    "plt.ylabel('Cosine Similarity Loss')\n",
    "plt.legend()\n",
    "\n",
    "# Validation loss does not increase, so we are not overfitting"
   ]
  },
  {
   "cell_type": "code",
   "execution_count": 36,
   "id": "2b966d4b-966a-4d25-a7ba-8cb5d78494ae",
   "metadata": {},
   "outputs": [
    {
     "data": {
      "text/plain": [
       "(100, 120, 120, 120, 1)"
      ]
     },
     "execution_count": 36,
     "metadata": {},
     "output_type": "execute_result"
    }
   ],
   "source": [
    "# Obtain test set, for now I onluy use 10000 simulations form the test set\n",
    "data_test = data_generator(X_test, Y_test, 100)\n",
    "\n",
    "inputs_test, outputs_test = data_test.__next__()\n",
    "inputs_test.shape"
   ]
  },
  {
   "cell_type": "code",
   "execution_count": 37,
   "id": "e75694c8-95ce-4607-9f06-ab8e5a4a2a2b",
   "metadata": {},
   "outputs": [],
   "source": [
    "# Predict initial directions for test set\n",
    "output_pred = agent.predict(inputs_test)"
   ]
  },
  {
   "cell_type": "code",
   "execution_count": 38,
   "id": "9ddddb7c-d2c4-40e2-99ea-b508365de298",
   "metadata": {},
   "outputs": [
    {
     "name": "stdout",
     "output_type": "stream",
     "text": [
      "mean =  21.949571104366186\n"
     ]
    }
   ],
   "source": [
    "# Compute angles between predicted direction and true direction\n",
    "angs = []\n",
    "for v1,v2 in zip(output_pred,outputs_test):\n",
    "    angs += [np.arccos(np.dot(v1,v2))*180/np.pi]\n",
    "    \n",
    "print( \"mean = \", np.mean(angs) )"
   ]
  },
  {
   "cell_type": "code",
   "execution_count": 39,
   "id": "2c7056aa-c636-4085-9133-8527af450a6c",
   "metadata": {},
   "outputs": [
    {
     "name": "stdout",
     "output_type": "stream",
     "text": [
      "RMS =  26.682532263993426\n"
     ]
    }
   ],
   "source": [
    "# calculate RMS \n",
    "angs =np.array(angs)\n",
    "\n",
    "print(\"RMS = \", np.sqrt(angs.dot(angs)/len(angs)) )\n",
    "# compare to the predicted best achievable "
   ]
  },
  {
   "cell_type": "code",
   "execution_count": null,
   "id": "20e7db9b-7e53-4a30-ad95-815fd17f9da1",
   "metadata": {},
   "outputs": [],
   "source": []
  }
 ],
 "metadata": {
  "kernelspec": {
   "display_name": "myenv",
   "language": "python",
   "name": "myenv"
  },
  "language_info": {
   "codemirror_mode": {
    "name": "ipython",
    "version": 3
   },
   "file_extension": ".py",
   "mimetype": "text/x-python",
   "name": "python",
   "nbconvert_exporter": "python",
   "pygments_lexer": "ipython3",
   "version": "3.9.12"
  }
 },
 "nbformat": 4,
 "nbformat_minor": 5
}
