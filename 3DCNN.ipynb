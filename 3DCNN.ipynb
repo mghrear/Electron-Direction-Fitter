{
 "cells": [
  {
   "cell_type": "code",
   "execution_count": 2,
   "id": "cd158c05-d09a-47e1-8881-b8961a269998",
   "metadata": {},
   "outputs": [],
   "source": [
    "import numpy as np\n",
    "import matplotlib.pyplot as plt\n",
    "from scipy.optimize import curve_fit\n",
    "\n",
    "import torch\n",
    "import tensorflow as tf \n",
    "import keras\n",
    "\n",
    "from keras.models import Sequential\n",
    "from keras.layers import Conv3D, MaxPooling3D, Dense, Dropout, Activation, Input, Flatten\n",
    "from keras.utils import np_utils\n",
    "from keras.regularizers import l2\n",
    "from keras.callbacks import EarlyStopping\n",
    "from keras import backend as K\n",
    "from sklearn.model_selection import train_test_split\n"
   ]
  },
  {
   "cell_type": "code",
   "execution_count": 3,
   "id": "a68823dc-290e-440c-abfe-14ece4177437",
   "metadata": {},
   "outputs": [],
   "source": [
    "# First Load the data\n",
    "\n",
    "file_loc = '/home/majd/3D_sparse_tensors'\n",
    "\n",
    "#Collect file names\n",
    "files_sp = []\n",
    "files_lb = []\n",
    "for i in range(100):\n",
    "    files_sp += ['/home/majd/3D_sparse_tensors'+'/sparse_recoils_'+str(i)+'.pt']\n",
    "    files_lb += ['/home/majd/3D_sparse_tensors'+'/labels_'+str(i)+'.pt']\n",
    "    \n",
    "# Load data. X is a list of the sparse tensors and Y is a list of the corresponding true directions\n",
    "X = []\n",
    "Y = []\n",
    "\n",
    "for sp,lb in zip(files_sp,files_lb):\n",
    "    X += torch.load(sp)\n",
    "    Y += np.loadtxt(lb).tolist()\n",
    "\n",
    "# Note: a list of sparse tensors can not be converted into an array. A list of dense tensors can.\n"
   ]
  },
  {
   "cell_type": "code",
   "execution_count": 4,
   "id": "563268a0-63ce-4fc8-9653-91d556ef709b",
   "metadata": {},
   "outputs": [
    {
     "name": "stdout",
     "output_type": "stream",
     "text": [
      "480765 160255 160255\n"
     ]
    }
   ],
   "source": [
    "# Break into train and test sets\n",
    "# There is no need to permute as they are already randomized \n",
    "\n",
    "split1 = int(0.6*len(X))\n",
    "split2 = int(0.8*len(X))\n",
    "\n",
    "X_train = X[:split1]\n",
    "X_valid = X[split1:split2]\n",
    "X_test = X[split2:]\n",
    "\n",
    "Y_train = Y[:split1]\n",
    "Y_valid = Y[split1:split2]\n",
    "Y_test = Y[split2:]\n",
    "\n",
    "print(len(X_train),len(X_valid),len(X_test))"
   ]
  },
  {
   "cell_type": "code",
   "execution_count": 5,
   "id": "1a7bf7cc-e262-463c-8594-59715210b228",
   "metadata": {},
   "outputs": [],
   "source": [
    "# data generator to yield both train and validation data.\n",
    "# it takes ~0.36s to serve up a batch of 200  \n",
    "def data_generator(X, Y, batchsize):\n",
    "    N = len(X)\n",
    "    while True:\n",
    "        \n",
    "        # Select random set of indices for batch\n",
    "        indices = np.random.randint(low=0, high=N, size=(batchsize,))\n",
    "        \n",
    "        # Loop through indices, collect sparse tensor, convert to dense, add to array\n",
    "        # We must use a for loop here as a list of sparse tensors may not be converted into an array\n",
    "        X1 = np.array( [(X[index].to_dense()).detach().numpy() for index in indices] )\n",
    "        Y1 = np.array( [Y[index] for index in indices] )\n",
    "        \n",
    "        # yield tensors and directions\n",
    "        yield X1, Y1\n",
    "        \n",
    "# Create generators.\n",
    "batchsize  = 150\n",
    "data_train = data_generator(X_train, Y_train, batchsize)\n",
    "data_valid = data_generator(X_valid, Y_valid, batchsize)"
   ]
  },
  {
   "cell_type": "code",
   "execution_count": 6,
   "id": "dbf87ff5-9373-49b1-9905-14175019b5f3",
   "metadata": {},
   "outputs": [],
   "source": [
    "# Use L2 norm as our custom activation function\n",
    "def cust_act(x):\n",
    "    return tf.keras.backend.l2_normalize(x, axis=1)"
   ]
  },
  {
   "cell_type": "code",
   "execution_count": 7,
   "id": "391b5cb8-74a7-45be-8d0e-db100cfe401a",
   "metadata": {},
   "outputs": [
    {
     "name": "stderr",
     "output_type": "stream",
     "text": [
      "2022-08-19 21:32:15.001244: I tensorflow/compiler/jit/xla_cpu_device.cc:41] Not creating XLA devices, tf_xla_enable_xla_devices not set\n",
      "2022-08-19 21:32:15.058539: I tensorflow/stream_executor/platform/default/dso_loader.cc:49] Successfully opened dynamic library libcuda.so.1\n",
      "2022-08-19 21:32:15.209597: I tensorflow/core/common_runtime/gpu/gpu_device.cc:1720] Found device 0 with properties: \n",
      "pciBusID: 0000:89:00.0 name: Tesla V100-SXM2-32GB computeCapability: 7.0\n",
      "coreClock: 1.53GHz coreCount: 80 deviceMemorySize: 31.75GiB deviceMemoryBandwidth: 836.37GiB/s\n",
      "2022-08-19 21:32:15.209643: I tensorflow/stream_executor/platform/default/dso_loader.cc:49] Successfully opened dynamic library libcudart.so.10.1\n",
      "2022-08-19 21:32:15.412169: I tensorflow/stream_executor/platform/default/dso_loader.cc:49] Successfully opened dynamic library libcublas.so.10\n",
      "2022-08-19 21:32:15.412210: I tensorflow/stream_executor/platform/default/dso_loader.cc:49] Successfully opened dynamic library libcublasLt.so.10\n",
      "2022-08-19 21:32:15.528837: I tensorflow/stream_executor/platform/default/dso_loader.cc:49] Successfully opened dynamic library libcufft.so.10\n",
      "2022-08-19 21:32:15.637692: I tensorflow/stream_executor/platform/default/dso_loader.cc:49] Successfully opened dynamic library libcurand.so.10\n",
      "2022-08-19 21:32:16.177564: I tensorflow/stream_executor/platform/default/dso_loader.cc:49] Successfully opened dynamic library libcusolver.so.10\n",
      "2022-08-19 21:32:16.330600: I tensorflow/stream_executor/platform/default/dso_loader.cc:49] Successfully opened dynamic library libcusparse.so.10\n",
      "2022-08-19 21:32:16.659811: I tensorflow/stream_executor/platform/default/dso_loader.cc:49] Successfully opened dynamic library libcudnn.so.7\n",
      "2022-08-19 21:32:16.660981: I tensorflow/core/common_runtime/gpu/gpu_device.cc:1862] Adding visible gpu devices: 0\n",
      "2022-08-19 21:32:16.730631: I tensorflow/core/platform/cpu_feature_guard.cc:142] This TensorFlow binary is optimized with oneAPI Deep Neural Network Library (oneDNN) to use the following CPU instructions in performance-critical operations:  SSE4.1 SSE4.2 AVX AVX2 AVX512F FMA\n",
      "To enable them in other operations, rebuild TensorFlow with the appropriate compiler flags.\n",
      "2022-08-19 21:32:16.730758: I tensorflow/compiler/jit/xla_gpu_device.cc:99] Not creating XLA devices, tf_xla_enable_xla_devices not set\n",
      "2022-08-19 21:32:16.731488: I tensorflow/core/common_runtime/gpu/gpu_device.cc:1720] Found device 0 with properties: \n",
      "pciBusID: 0000:89:00.0 name: Tesla V100-SXM2-32GB computeCapability: 7.0\n",
      "coreClock: 1.53GHz coreCount: 80 deviceMemorySize: 31.75GiB deviceMemoryBandwidth: 836.37GiB/s\n",
      "2022-08-19 21:32:16.731531: I tensorflow/stream_executor/platform/default/dso_loader.cc:49] Successfully opened dynamic library libcudart.so.10.1\n",
      "2022-08-19 21:32:16.731559: I tensorflow/stream_executor/platform/default/dso_loader.cc:49] Successfully opened dynamic library libcublas.so.10\n",
      "2022-08-19 21:32:16.731569: I tensorflow/stream_executor/platform/default/dso_loader.cc:49] Successfully opened dynamic library libcublasLt.so.10\n",
      "2022-08-19 21:32:16.731579: I tensorflow/stream_executor/platform/default/dso_loader.cc:49] Successfully opened dynamic library libcufft.so.10\n",
      "2022-08-19 21:32:16.731589: I tensorflow/stream_executor/platform/default/dso_loader.cc:49] Successfully opened dynamic library libcurand.so.10\n",
      "2022-08-19 21:32:16.731599: I tensorflow/stream_executor/platform/default/dso_loader.cc:49] Successfully opened dynamic library libcusolver.so.10\n",
      "2022-08-19 21:32:16.731608: I tensorflow/stream_executor/platform/default/dso_loader.cc:49] Successfully opened dynamic library libcusparse.so.10\n",
      "2022-08-19 21:32:16.731618: I tensorflow/stream_executor/platform/default/dso_loader.cc:49] Successfully opened dynamic library libcudnn.so.7\n",
      "2022-08-19 21:32:16.732515: I tensorflow/core/common_runtime/gpu/gpu_device.cc:1862] Adding visible gpu devices: 0\n",
      "2022-08-19 21:32:16.732547: I tensorflow/stream_executor/platform/default/dso_loader.cc:49] Successfully opened dynamic library libcudart.so.10.1\n",
      "2022-08-19 21:32:22.582627: I tensorflow/core/common_runtime/gpu/gpu_device.cc:1261] Device interconnect StreamExecutor with strength 1 edge matrix:\n",
      "2022-08-19 21:32:22.582661: I tensorflow/core/common_runtime/gpu/gpu_device.cc:1267]      0 \n",
      "2022-08-19 21:32:22.582671: I tensorflow/core/common_runtime/gpu/gpu_device.cc:1280] 0:   N \n",
      "2022-08-19 21:32:22.584907: I tensorflow/core/common_runtime/gpu/gpu_device.cc:1406] Created TensorFlow device (/job:localhost/replica:0/task:0/device:GPU:0 with 30132 MB memory) -> physical GPU (device: 0, name: Tesla V100-SXM2-32GB, pci bus id: 0000:89:00.0, compute capability: 7.0)\n"
     ]
    },
    {
     "name": "stdout",
     "output_type": "stream",
     "text": [
      "Model: \"sequential\"\n",
      "_________________________________________________________________\n",
      "Layer (type)                 Output Shape              Param #   \n",
      "=================================================================\n",
      "conv3d (Conv3D)              (None, 60, 60, 60, 50)    10850     \n",
      "_________________________________________________________________\n",
      "max_pooling3d (MaxPooling3D) (None, 30, 30, 30, 50)    0         \n",
      "_________________________________________________________________\n",
      "conv3d_1 (Conv3D)            (None, 30, 30, 30, 30)    96030     \n",
      "_________________________________________________________________\n",
      "conv3d_2 (Conv3D)            (None, 30, 30, 30, 20)    16220     \n",
      "_________________________________________________________________\n",
      "max_pooling3d_1 (MaxPooling3 (None, 15, 15, 15, 20)    0         \n",
      "_________________________________________________________________\n",
      "flatten (Flatten)            (None, 67500)             0         \n",
      "_________________________________________________________________\n",
      "dense (Dense)                (None, 100)               6750100   \n",
      "_________________________________________________________________\n",
      "dense_1 (Dense)              (None, 30)                3030      \n",
      "_________________________________________________________________\n",
      "dense_2 (Dense)              (None, 3)                 93        \n",
      "=================================================================\n",
      "Total params: 6,876,323\n",
      "Trainable params: 6,876,323\n",
      "Non-trainable params: 0\n",
      "_________________________________________________________________\n"
     ]
    }
   ],
   "source": [
    "# Initialize the model\n",
    "model = Sequential()\n",
    "\n",
    "# Downsample with a convolutional and max pooling layer\n",
    "model.add(Conv3D(50, kernel_size=(6,6,6), strides=(2,2,2), padding = 'same', activation='relu', input_shape=(120, 120, 120, 1)))\n",
    "model.add(MaxPooling3D(pool_size=(2,2,2)))\n",
    "\n",
    "# Two more convolutional layers\n",
    "model.add(Conv3D(30, kernel_size=(4,4,4), strides=(1,1,1), padding = 'same', activation='relu'))\n",
    "model.add(Conv3D(20, kernel_size=(3,3,3), strides=(1,1,1), padding = 'same', activation='relu'))\n",
    "\n",
    "# Max Pooling\n",
    "model.add(MaxPooling3D(pool_size=(2,2,2)))\n",
    "\n",
    "# Flatten the Data for fully connected section\n",
    "model.add(Flatten())\n",
    "\n",
    "# Two dense layers\n",
    "model.add(Dense(100, activation='relu'))\n",
    "model.add(Dense(30, activation='tanh'))\n",
    "\n",
    "# The output layer\n",
    "model.add(Dense(3, activation=cust_act))\n",
    "\n",
    "# Print Summary of model\n",
    "model.summary()\n",
    "\n",
    "# Specify optimizer hyperparameters\n",
    "learning_rate=0.001\n",
    "beta_1=0.94\n",
    "beta_2=0.999\n",
    "epsilon=1e-07\n",
    "opt=tf.keras.optimizers.Adam(learning_rate=learning_rate, beta_1=beta_1, beta_2=beta_2, epsilon=epsilon, amsgrad=False, name=\"adam\")\n",
    "\n",
    "# Compile the model\n",
    "model.compile(loss=tf.keras.losses.CosineSimilarity(axis=1), optimizer=opt)\n"
   ]
  },
  {
   "cell_type": "code",
   "execution_count": 8,
   "id": "bb0a2492-b636-4c81-a871-af32a4c1e7a1",
   "metadata": {},
   "outputs": [
    {
     "name": "stderr",
     "output_type": "stream",
     "text": [
      "/home/majd/.conda/envs/myenv/lib/python3.9/site-packages/tensorflow/python/keras/engine/training.py:1844: UserWarning: `Model.fit_generator` is deprecated and will be removed in a future version. Please use `Model.fit`, which supports generators.\n",
      "  warnings.warn('`Model.fit_generator` is deprecated and '\n",
      "2022-08-19 21:32:24.590425: W tensorflow/core/framework/cpu_allocator_impl.cc:80] Allocation of 259200000 exceeds 10% of free system memory.\n",
      "2022-08-19 21:32:25.165591: I tensorflow/compiler/mlir/mlir_graph_optimization_pass.cc:116] None of the MLIR optimization passes are enabled (registered 2)\n",
      "2022-08-19 21:32:25.166060: I tensorflow/core/platform/profile_utils/cpu_utils.cc:112] CPU Frequency: 3000000000 Hz\n"
     ]
    },
    {
     "name": "stdout",
     "output_type": "stream",
     "text": [
      "Epoch 1/200\n"
     ]
    },
    {
     "name": "stderr",
     "output_type": "stream",
     "text": [
      "2022-08-19 21:32:25.700191: W tensorflow/core/framework/cpu_allocator_impl.cc:80] Allocation of 259200000 exceeds 10% of free system memory.\n",
      "2022-08-19 21:32:25.788890: I tensorflow/stream_executor/platform/default/dso_loader.cc:49] Successfully opened dynamic library libcublas.so.10\n",
      "2022-08-19 21:32:26.248500: W tensorflow/core/framework/cpu_allocator_impl.cc:80] Allocation of 259200000 exceeds 10% of free system memory.\n",
      "2022-08-19 21:32:27.200449: W tensorflow/core/kernels/gpu_utils.cc:49] Failed to allocate memory for convolution redzone checking; skipping this check. This is benign and only means that we won't check cudnn for out-of-bounds reads and writes. This message will only be printed once.\n",
      "2022-08-19 21:32:27.200598: I tensorflow/stream_executor/platform/default/dso_loader.cc:49] Successfully opened dynamic library libcudnn.so.7\n",
      "2022-08-19 21:32:34.719748: W tensorflow/stream_executor/gpu/asm_compiler.cc:63] Running ptxas --version returned 256\n",
      "2022-08-19 21:32:35.704524: W tensorflow/stream_executor/gpu/redzone_allocator.cc:314] Internal: ptxas exited with non-zero error code 256, output: \n",
      "Relying on driver to perform ptx compilation. \n",
      "Modify $PATH to customize ptxas location.\n",
      "This message will be only logged once.\n"
     ]
    },
    {
     "name": "stdout",
     "output_type": "stream",
     "text": [
      "  1/100 [..............................] - ETA: 1:05:49 - loss: 0.0202"
     ]
    },
    {
     "name": "stderr",
     "output_type": "stream",
     "text": [
      "2022-08-19 21:33:05.613876: W tensorflow/core/framework/cpu_allocator_impl.cc:80] Allocation of 259200000 exceeds 10% of free system memory.\n"
     ]
    },
    {
     "name": "stdout",
     "output_type": "stream",
     "text": [
      "  2/100 [..............................] - ETA: 1:34 - loss: 0.0192   "
     ]
    },
    {
     "name": "stderr",
     "output_type": "stream",
     "text": [
      "2022-08-19 21:33:06.413506: W tensorflow/core/framework/cpu_allocator_impl.cc:80] Allocation of 259200000 exceeds 10% of free system memory.\n"
     ]
    },
    {
     "name": "stdout",
     "output_type": "stream",
     "text": [
      "100/100 [==============================] - 190s 2s/step - loss: -0.2417 - val_loss: -0.4066\n",
      "Epoch 2/200\n",
      "100/100 [==============================] - 157s 2s/step - loss: -0.4178 - val_loss: -0.4440\n",
      "Epoch 3/200\n",
      "100/100 [==============================] - 158s 2s/step - loss: -0.4573 - val_loss: -0.4948\n",
      "Epoch 4/200\n",
      "100/100 [==============================] - 161s 2s/step - loss: -0.5023 - val_loss: -0.5329\n",
      "Epoch 5/200\n",
      "100/100 [==============================] - 159s 2s/step - loss: -0.5494 - val_loss: -0.5848\n",
      "Epoch 6/200\n",
      "100/100 [==============================] - 161s 2s/step - loss: -0.6085 - val_loss: -0.6481\n",
      "Epoch 7/200\n",
      "100/100 [==============================] - 159s 2s/step - loss: -0.6731 - val_loss: -0.7244\n",
      "Epoch 8/200\n",
      "100/100 [==============================] - 161s 2s/step - loss: -0.7436 - val_loss: -0.7657\n",
      "Epoch 9/200\n",
      "100/100 [==============================] - 159s 2s/step - loss: -0.7729 - val_loss: -0.7706\n",
      "Epoch 10/200\n",
      "100/100 [==============================] - 161s 2s/step - loss: -0.7889 - val_loss: -0.7993\n",
      "Epoch 11/200\n",
      "100/100 [==============================] - 162s 2s/step - loss: -0.8125 - val_loss: -0.7963\n",
      "Epoch 12/200\n",
      "100/100 [==============================] - 160s 2s/step - loss: -0.8150 - val_loss: -0.8248\n",
      "Epoch 13/200\n",
      "100/100 [==============================] - 159s 2s/step - loss: -0.8268 - val_loss: -0.8343\n",
      "Epoch 14/200\n",
      "100/100 [==============================] - 161s 2s/step - loss: -0.8400 - val_loss: -0.8399\n",
      "Epoch 15/200\n",
      "100/100 [==============================] - 158s 2s/step - loss: -0.8486 - val_loss: -0.8514\n",
      "Epoch 16/200\n",
      "100/100 [==============================] - 161s 2s/step - loss: -0.8544 - val_loss: -0.8428\n",
      "Epoch 17/200\n",
      "100/100 [==============================] - 162s 2s/step - loss: -0.8539 - val_loss: -0.8512\n"
     ]
    }
   ],
   "source": [
    "# Train the model\n",
    "\n",
    "# Implement early stopping to avoild overfitting\n",
    "stopping  = keras.callbacks.EarlyStopping(monitor='val_loss', patience=2, verbose=0, mode='auto')\n",
    "callbacks = [stopping]\n",
    "\n",
    "history = model.fit_generator(generator=data_train, steps_per_epoch=100, epochs=200, verbose=1, callbacks=callbacks, validation_data=data_valid, validation_steps=100)\n"
   ]
  },
  {
   "cell_type": "code",
   "execution_count": 9,
   "id": "5e20bf63-4197-4de3-aace-8ce715d3022d",
   "metadata": {},
   "outputs": [
    {
     "data": {
      "text/plain": [
       "<matplotlib.legend.Legend at 0x2b9626a3e880>"
      ]
     },
     "execution_count": 9,
     "metadata": {},
     "output_type": "execute_result"
    },
    {
     "data": {
      "image/png": "[encoded data removed]",
      "text/plain": [
       "<Figure size 432x288 with 1 Axes>"
      ]
     },
     "metadata": {
      "needs_background": "light"
     },
     "output_type": "display_data"
    }
   ],
   "source": [
    "# Plot loss trajectory throughout training.\n",
    "plt.figure()\n",
    "plt.plot(history.history['loss'], label='Training')\n",
    "plt.plot(history.history['val_loss'], label='Validation')\n",
    "plt.xlabel('Epochs')\n",
    "plt.ylabel('Cosine Similarity Loss')\n",
    "plt.legend()\n",
    "\n",
    "# Validation loss does not increase, so we are not overfitting"
   ]
  },
  {
   "cell_type": "code",
   "execution_count": 16,
   "id": "4eaf002d-93d5-45c8-9ace-d02b022d2f31",
   "metadata": {},
   "outputs": [],
   "source": [
    "# This function draws an a 3-D vector from an isotropic distribution\n",
    "def random_three_vector():\n",
    "\n",
    "    \"\"\"\n",
    "\n",
    "    Generates a random 3D unit vector (direction) with a uniform spherical distribution\n",
    "    Algo from http://stackoverflow.com/questions/5408276/python-uniform-spherical-distribution\n",
    "\n",
    "    \"\"\"\n",
    "\n",
    "    phi = np.random.uniform()*2*np.pi\n",
    "\n",
    "    costheta = 2.0*np.random.uniform()-1.0\n",
    "    theta = np.arccos( costheta )\n",
    "\n",
    "    x = np.sin(theta) * np.cos(phi)\n",
    "    y = np.sin( theta) * np.sin(phi)\n",
    "    z = np.cos( theta )\n",
    "\n",
    "    return np.array([x,y,z])\n"
   ]
  },
  {
   "cell_type": "code",
   "execution_count": 50,
   "id": "2475bcde-c587-4689-a977-be1f708ae293",
   "metadata": {},
   "outputs": [],
   "source": [
    "ang3D =[]\n",
    "ang2D_1 = []\n",
    "ang2D_2 = []\n",
    "\n",
    "# Loop through test set\n",
    "for track, label in zip(X_test[1000:2000], Y_test[1000:2000]):\n",
    "    \n",
    "    # Convert track to dense, one-by-one\n",
    "    dense_track = np.array([(track.to_dense()).detach().numpy()])\n",
    "    \n",
    "    # Predict direction\n",
    "    pred = model.predict(dense_track)[0]\n",
    "    # Convert label to array\n",
    "    true = np.array(label)\n",
    "    \n",
    "    # Draw a random vector\n",
    "    v_rand = random_three_vector()\n",
    "    \n",
    "    #create two vectors perpendicular to the true direction\n",
    "    v1 = np.cross(v_rand,true)\n",
    "    v2 = np.cross(v1,true)\n",
    "    \n",
    "    # Project prediction onto planes containing (v1,true) (v2,true) and normalize\n",
    "    pred1 = np.dot(pred,true)*true + np.dot(pred,v1) * v1\n",
    "    pred1 = pred1/np.linalg.norm(pred1)\n",
    "    pred2 = np.dot(pred,true)*true + np.dot(pred,v2) * v2\n",
    "    pred2 = pred2/np.linalg.norm(pred2)\n",
    "    \n",
    "    #determine angles\n",
    "    ang3D += [np.arccos(np.dot(pred,true))*180/np.pi]\n",
    "    \n",
    "    # need condition to include negatives into sign of theta\n",
    "    ang2D_1 += [ np.sign( np.dot(pred1,v1) ) * np.arccos(np.dot(pred1,true))*180/np.pi ]\n",
    "    ang2D_2 += [ np.sign( np.dot(pred2,v2) ) * np.arccos(np.dot(pred2,true))*180/np.pi ]    "
   ]
  },
  {
   "cell_type": "code",
   "execution_count": 53,
   "id": "e105cb78-c097-4cde-beea-e01b1b4836e5",
   "metadata": {},
   "outputs": [],
   "source": [
    "# Gaussian function to fit to\n",
    "def func(x,sigma):\n",
    "    return 1.0/(sigma*np.sqrt(2*np.pi))*np.e**(-(x**2)/(2*sigma**2))"
   ]
  },
  {
   "cell_type": "code",
   "execution_count": 54,
   "id": "20e7db9b-7e53-4a30-ad95-815fd17f9da1",
   "metadata": {},
   "outputs": [
    {
     "data": {
      "text/plain": [
       "<matplotlib.legend.Legend at 0x2b9e6f339ca0>"
      ]
     },
     "execution_count": 54,
     "metadata": {},
     "output_type": "execute_result"
    },
    {
     "data": {
      "image/png": "[encoded data removed]",
      "text/plain": [
       "<Figure size 432x288 with 1 Axes>"
      ]
     },
     "metadata": {
      "needs_background": "light"
     },
     "output_type": "display_data"
    }
   ],
   "source": [
    "from scipy.optimize import curve_fit\n",
    "\n",
    "Trim = 2.0\n",
    "\n",
    "#Load data\n",
    "angles = ang2D_1\n",
    "\n",
    "# Trim the distribution\n",
    "p1 = np.percentile(angles,Trim/2.0)\n",
    "p2 = np.percentile(angles,100.0-Trim/2.0)\n",
    "angles2 = []\n",
    "for g in angles:\n",
    "    if g > p1 and g < p2:\n",
    "        angles2 += [g]\n",
    "angles = angles2\n",
    "\n",
    "\n",
    "# Bin the data s.t. the center of the central bin is 0,\n",
    "# the outermost angle is in the center of the outermost bin\n",
    "# and binning is symmetric about 0\n",
    "\n",
    "#num is the number of bins on either side of the gaussian\n",
    "num = 10\n",
    "\n",
    "M1 = np.abs(min(angles))\n",
    "M2 = np.abs(max(angles))\n",
    "M = max(M1,M2)\n",
    "\n",
    "# Make the bin ceneters\n",
    "bin_centers = np.arange(-M,M+(M/num),M/num)\n",
    "# Number of bin centers must be odd but sometimes numpy gives me and extra bin, I throw it out here\n",
    "if len(bin_centers)%2 == 0:\n",
    "    bin_centers = bin_centers[0:(len(bin_centers)-1)]\n",
    "\n",
    "# Make the bin edges\n",
    "bin_edges = []\n",
    "for center in bin_centers:\n",
    "    bin_edges += [center - M/(num*2.0)]\n",
    "bin_edges += [M + M/(num*2.0)]\n",
    "\n",
    "plt.figure()\n",
    "# Bin the data\n",
    "n, bins, patches = plt.hist(angles, density=True , bins=bin_edges)\n",
    "\n",
    "#Ignore bins with no hits\n",
    "bin_centers = bin_centers[n != 0]\n",
    "diffs = np.diff(bins)[n != 0]\n",
    "n = n[n != 0]\n",
    "\n",
    "#Calculate number of hits per bin \n",
    "n_hits = n * (len(angles)*diffs)\n",
    "#Calculate poission error bars on number of hits\n",
    "n_hits_err = np.sqrt(n_hits)\n",
    "#calculate error bars on n\n",
    "n_err = n * (n_hits_err/n_hits)\n",
    "\n",
    "\n",
    "plt.xlabel('Angle [Deg]')\n",
    "plt.ylabel('Probability')\n",
    "plt.errorbar(bin_centers, n, yerr=n_err,fmt='ko')\n",
    "\n",
    "# Fit to binned density function \n",
    "#popt, pcov = curve_fit(func, bin_centers, n,absolute_sigma=True)\n",
    "popt, pcov = curve_fit(func, bin_centers, n, sigma=n_err, absolute_sigma=True)\n",
    "perr = np.sqrt(np.diag(pcov))\n",
    "\n",
    "# Plot the fit \n",
    "xs = np.arange(-M,M,2.0*M/1000)\n",
    "plt.plot(xs,func(xs,*popt),'r-',label='fit: $\\sigma$ = %5.3f $\\pm$ %5.3f, %5.3f percent' % tuple([popt[0],perr[0],perr[0]/popt[0]*100.0]))\n",
    "#plt.plot(xs,func(xs,popt[0]+perr[0]),'r--',label='fit Err high')\n",
    "#plt.plot(xs,func(xs,popt[0]-perr[0]),'r--',label='fit Err low')\n",
    "plt.legend()\n",
    "\n",
    "\n",
    "\n",
    "\n"
   ]
  },
  {
   "cell_type": "code",
   "execution_count": 41,
   "id": "d43ba78f-d8ae-4410-a7e7-27407b94a268",
   "metadata": {},
   "outputs": [
    {
     "name": "stdout",
     "output_type": "stream",
     "text": [
      " 3D RMS =  25.58151571359083\n"
     ]
    }
   ],
   "source": [
    "ang2D_1\n",
    "RMS_2D = np.sqrt(np.dot(ang2D_1,ang2D_1)/len(ang2D_1))\n",
    "print(\" 3D RMS = \",  RMS_2D)\n"
   ]
  },
  {
   "cell_type": "code",
   "execution_count": 40,
   "id": "6d236a5a-4979-406a-8ac1-28af4d0ed23b",
   "metadata": {},
   "outputs": [
    {
     "name": "stdout",
     "output_type": "stream",
     "text": [
      " 3D RMS =  31.76081351221033\n"
     ]
    }
   ],
   "source": [
    "t_ang3d = ang3D[0:int(0.98*len(ang3D))]\n",
    "\n",
    "RMS_3D = np.sqrt(np.dot(t_ang3d,t_ang3d)/len(t_ang3d))\n",
    "print(\" 3D RMS = \",  RMS_3D)"
   ]
  },
  {
   "cell_type": "code",
   "execution_count": 23,
   "id": "772120f9-7ea2-4272-8f9e-ae2b871bca95",
   "metadata": {},
   "outputs": [
    {
     "name": "stderr",
     "output_type": "stream",
     "text": [
      "2022-08-19 22:42:32.872608: W tensorflow/python/util/util.cc:348] Sets are not currently considered sequences, but this may change in the future, so consider avoiding using them.\n"
     ]
    },
    {
     "name": "stdout",
     "output_type": "stream",
     "text": [
      "INFO:tensorflow:Assets written to: /home/majd/CNN_models/3DCNN_model/assets\n"
     ]
    }
   ],
   "source": [
    "# Save the model\n",
    "name = \"3DCNN_model\"\n",
    "model.save(\"/home/majd/CNN_models/\"+name)"
   ]
  },
  {
   "cell_type": "code",
   "execution_count": 45,
   "id": "eb48cfcf-bab2-474c-b05e-003875abebd6",
   "metadata": {},
   "outputs": [],
   "source": [
    "# Load the model\n",
    "#model = keras.models.load_model(\"/home/majd/CNN_models/\"+name)"
   ]
  }
 ],
 "metadata": {
  "kernelspec": {
   "display_name": "myenv",
   "language": "python",
   "name": "myenv"
  },
  "language_info": {
   "codemirror_mode": {
    "name": "ipython",
    "version": 3
   },
   "file_extension": ".py",
   "mimetype": "text/x-python",
   "name": "python",
   "nbconvert_exporter": "python",
   "pygments_lexer": "ipython3",
   "version": "3.9.12"
  }
 },
 "nbformat": 4,
 "nbformat_minor": 5
}
