{
 "cells": [
  {
   "cell_type": "code",
   "execution_count": 1,
   "id": "cd158c05-d09a-47e1-8881-b8961a269998",
   "metadata": {},
   "outputs": [
    {
     "name": "stderr",
     "output_type": "stream",
     "text": [
      "2022-08-19 01:39:37.064128: I tensorflow/stream_executor/platform/default/dso_loader.cc:49] Successfully opened dynamic library libcudart.so.10.1\n",
      "/home/majd/.conda/envs/myenv/lib/python3.9/site-packages/scipy/__init__.py:146: UserWarning: A NumPy version >=1.16.5 and <1.23.0 is required for this version of SciPy (detected version 1.23.1\n",
      "  warnings.warn(f\"A NumPy version >={np_minversion} and <{np_maxversion}\"\n"
     ]
    }
   ],
   "source": [
    "import numpy as np\n",
    "import matplotlib.pyplot as plt\n",
    "from mpl_toolkits.mplot3d import Axes3D\n",
    "\n",
    "import torch\n",
    "import tensorflow as tf \n",
    "import keras\n",
    "\n",
    "from keras.models import Sequential\n",
    "from keras.layers import Conv3D, MaxPooling3D, Dense, Dropout, Activation, Input, Flatten\n",
    "from keras.utils import np_utils\n",
    "from keras.regularizers import l2\n",
    "from keras.callbacks import EarlyStopping\n",
    "from keras import backend as K\n",
    "from sklearn.model_selection import train_test_split\n"
   ]
  },
  {
   "cell_type": "code",
   "execution_count": 2,
   "id": "a68823dc-290e-440c-abfe-14ece4177437",
   "metadata": {},
   "outputs": [],
   "source": [
    "# First Load the data\n",
    "\n",
    "file_loc = '/home/majd/3D_sparse_tensors'\n",
    "\n",
    "#Collect file names\n",
    "files_sp = []\n",
    "files_lb = []\n",
    "for i in range(100):\n",
    "    files_sp += ['/home/majd/3D_sparse_tensors'+'/sparse_recoils_'+str(i)+'.pt']\n",
    "    files_lb += ['/home/majd/3D_sparse_tensors'+'/labels_'+str(i)+'.pt']\n",
    "    \n",
    "# Load data. X is a list of the sparse tensors and Y is a list of the corresponding true directions\n",
    "X = []\n",
    "Y = []\n",
    "\n",
    "for sp,lb in zip(files_sp,files_lb):\n",
    "    X += torch.load(sp)\n",
    "    Y += np.loadtxt(lb).tolist()\n",
    "\n",
    "# Note: a list of sparse tensors can not be converted into an array. A list of dense tensors can.\n"
   ]
  },
  {
   "cell_type": "code",
   "execution_count": 27,
   "id": "563268a0-63ce-4fc8-9653-91d556ef709b",
   "metadata": {},
   "outputs": [
    {
     "name": "stdout",
     "output_type": "stream",
     "text": [
      "480765 160255 160255\n"
     ]
    }
   ],
   "source": [
    "# Break into train and test sets\n",
    "# There is no need to permute as they are already randomized \n",
    "\n",
    "split1 = int(0.6*len(X))\n",
    "split2 = int(0.8*len(X))\n",
    "\n",
    "X_train = X[:split1]\n",
    "X_valid = X[split1:split2]\n",
    "X_test = X[split2:]\n",
    "\n",
    "Y_train = Y[:split1]\n",
    "Y_valid = Y[split1:split2]\n",
    "Y_test = Y[split2:]\n",
    "\n",
    "print(len(X_train),len(X_valid),len(X_test))"
   ]
  },
  {
   "cell_type": "code",
   "execution_count": 28,
   "id": "1a7bf7cc-e262-463c-8594-59715210b228",
   "metadata": {},
   "outputs": [],
   "source": [
    "# data generator to yield both train and validation data.\n",
    "# it takes ~0.36s to serve up a batch of 200  \n",
    "def data_generator(X, Y, batchsize):\n",
    "    N = len(X)\n",
    "    while True:\n",
    "        \n",
    "        # Select random set of indices for batch\n",
    "        indices = np.random.randint(low=0, high=N, size=(batchsize,))\n",
    "        \n",
    "        # Loop through indices, collect sparse tensor, convert to dense, add to array\n",
    "        # We must use a for loop here as a list of sparse tensors may not be converted into an array\n",
    "        X1 = np.array( [(X[index].to_dense()).detach().numpy() for index in indices] )\n",
    "        Y1 = np.array( [Y[index] for index in indices] )\n",
    "        \n",
    "        # yield tensors and directions\n",
    "        yield X1, Y1\n",
    "        \n",
    "# Create generators.\n",
    "batchsize  = 150\n",
    "data_train = data_generator(X_train, Y_train, batchsize)\n",
    "data_valid = data_generator(X_valid, Y_valid, batchsize)"
   ]
  },
  {
   "cell_type": "code",
   "execution_count": 29,
   "id": "dbf87ff5-9373-49b1-9905-14175019b5f3",
   "metadata": {},
   "outputs": [],
   "source": [
    "# Use L2 norm as our custom activation function\n",
    "def cust_act(x):\n",
    "    return tf.keras.backend.l2_normalize(x, axis=1)"
   ]
  },
  {
   "cell_type": "code",
   "execution_count": 30,
   "id": "391b5cb8-74a7-45be-8d0e-db100cfe401a",
   "metadata": {},
   "outputs": [
    {
     "name": "stdout",
     "output_type": "stream",
     "text": [
      "Model: \"sequential_4\"\n",
      "_________________________________________________________________\n",
      "Layer (type)                 Output Shape              Param #   \n",
      "=================================================================\n",
      "conv3d_13 (Conv3D)           (None, 60, 60, 60, 50)    10850     \n",
      "_________________________________________________________________\n",
      "max_pooling3d_8 (MaxPooling3 (None, 30, 30, 30, 50)    0         \n",
      "_________________________________________________________________\n",
      "conv3d_14 (Conv3D)           (None, 30, 30, 30, 30)    96030     \n",
      "_________________________________________________________________\n",
      "conv3d_15 (Conv3D)           (None, 30, 30, 30, 20)    16220     \n",
      "_________________________________________________________________\n",
      "max_pooling3d_9 (MaxPooling3 (None, 15, 15, 15, 20)    0         \n",
      "_________________________________________________________________\n",
      "flatten_4 (Flatten)          (None, 67500)             0         \n",
      "_________________________________________________________________\n",
      "dense_12 (Dense)             (None, 100)               6750100   \n",
      "_________________________________________________________________\n",
      "dense_13 (Dense)             (None, 30)                3030      \n",
      "_________________________________________________________________\n",
      "dense_14 (Dense)             (None, 3)                 93        \n",
      "=================================================================\n",
      "Total params: 6,876,323\n",
      "Trainable params: 6,876,323\n",
      "Non-trainable params: 0\n",
      "_________________________________________________________________\n"
     ]
    }
   ],
   "source": [
    "# Initialize the model\n",
    "model = Sequential()\n",
    "\n",
    "# Downsample with a convolutional and max pooling layer\n",
    "model.add(Conv3D(50, kernel_size=(6,6,6), strides=(2,2,2), padding = 'same', activation='relu', input_shape=(120, 120, 120, 1)))\n",
    "model.add(MaxPooling3D(pool_size=(2,2,2)))\n",
    "\n",
    "# Two more convolutional layers\n",
    "model.add(Conv3D(30, kernel_size=(4,4,4), strides=(1,1,1), padding = 'same', activation='relu'))\n",
    "model.add(Conv3D(20, kernel_size=(3,3,3), strides=(1,1,1), padding = 'same', activation='relu'))\n",
    "\n",
    "# Max Pooling\n",
    "model.add(MaxPooling3D(pool_size=(2,2,2)))\n",
    "\n",
    "# Flatten the Data for fully connected section\n",
    "model.add(Flatten())\n",
    "\n",
    "# Two dense layers\n",
    "model.add(Dense(100, activation='relu'))\n",
    "model.add(Dense(30, activation='tanh'))\n",
    "\n",
    "# The output layer\n",
    "model.add(Dense(3, activation=cust_act))\n",
    "\n",
    "# Print Summary of model\n",
    "model.summary()\n",
    "\n",
    "# Specify optimizer hyperparameters\n",
    "learning_rate=0.001\n",
    "beta_1=0.94\n",
    "beta_2=0.999\n",
    "epsilon=1e-07\n",
    "opt=tf.keras.optimizers.Adam(learning_rate=learning_rate, beta_1=beta_1, beta_2=beta_2, epsilon=epsilon, amsgrad=False, name=\"adam\")\n",
    "\n",
    "# Compile the model\n",
    "model.compile(loss=tf.keras.losses.CosineSimilarity(axis=1), optimizer=opt)\n"
   ]
  },
  {
   "cell_type": "code",
   "execution_count": 36,
   "id": "bb0a2492-b636-4c81-a871-af32a4c1e7a1",
   "metadata": {},
   "outputs": [
    {
     "name": "stdout",
     "output_type": "stream",
     "text": [
      "Epoch 1/2\n",
      "100/100 [==============================] - 164s 2s/step - loss: -0.4271 - val_loss: -0.4634\n",
      "Epoch 2/2\n",
      "100/100 [==============================] - 163s 2s/step - loss: -0.4775 - val_loss: -0.5026\n"
     ]
    }
   ],
   "source": [
    "# Train the model\n",
    "\n",
    "# Implement early stopping to avoild overfitting\n",
    "stopping  = keras.callbacks.EarlyStopping(monitor='val_loss', patience=2, verbose=0, mode='auto')\n",
    "callbacks = [stopping]\n",
    "\n",
    "history = model.fit_generator(generator=data_train, steps_per_epoch=100, epochs=2, verbose=1, callbacks=callbacks, validation_data=data_valid, validation_steps=100)\n"
   ]
  },
  {
   "cell_type": "code",
   "execution_count": 37,
   "id": "5e20bf63-4197-4de3-aace-8ce715d3022d",
   "metadata": {},
   "outputs": [
    {
     "data": {
      "text/plain": [
       "<matplotlib.legend.Legend at 0x2aff62d92430>"
      ]
     },
     "execution_count": 37,
     "metadata": {},
     "output_type": "execute_result"
    },
    {
     "data": {
      "image/png": "[encoded data removed]",
      "text/plain": [
       "<Figure size 432x288 with 1 Axes>"
      ]
     },
     "metadata": {
      "needs_background": "light"
     },
     "output_type": "display_data"
    }
   ],
   "source": [
    "# Plot loss trajectory throughout training.\n",
    "plt.figure()\n",
    "plt.plot(history.history['loss'], label='Training')\n",
    "plt.plot(history.history['val_loss'], label='Validation')\n",
    "plt.xlabel('Epochs')\n",
    "plt.ylabel('Cosine Similarity Loss')\n",
    "plt.legend()\n",
    "\n",
    "# Validation loss does not increase, so we are not overfitting"
   ]
  },
  {
   "cell_type": "code",
   "execution_count": 38,
   "id": "2475bcde-c587-4689-a977-be1f708ae293",
   "metadata": {},
   "outputs": [],
   "source": [
    "ang3D =[]\n",
    "ang2D_1 = []\n",
    "ang2D_2 = []\n",
    "\n",
    "# Loop through test set\n",
    "for track, label in zip(X_test[2000:3000], Y_test[2000:3000]):\n",
    "    \n",
    "    # Convert track to dense, one-by-one\n",
    "    dense_track = np.array([(track.to_dense()).detach().numpy()])\n",
    "    \n",
    "    # Predict direction\n",
    "    pred = model.predict(dense_track)[0]\n",
    "    # Convert label to array\n",
    "    true = np.array(label)\n",
    "    \n",
    "    #create two vectors perpendicular to the true direction\n",
    "    v1 = np.array([true[1],-true[0],0])\n",
    "    v1 = v1/np.linalg.norm(v1)\n",
    "    v2 = np.cross(v1,true)\n",
    "    \n",
    "    # Project prediction onto planes containing (v1,true) (v2,true)\n",
    "    pred1 = np.dot(pred,true)*true + np.dot(pred,v1) * v1\n",
    "    pred1 = pred1/np.linalg.norm(pred1)\n",
    "    pred2 = np.dot(pred,true)*true + np.dot(pred,v2) * v2\n",
    "    pred2 = pred2/np.linalg.norm(pred2)\n",
    "    \n",
    "    #determine angles\n",
    "    ang3D += [np.arccos(np.dot(pred,true))*180/np.pi]\n",
    "    \n",
    "    # need condition to include negatives into sign of theta\n",
    "    ang2D_1 += [ np.sign( np.dot(pred1,v1) ) * np.arccos(np.dot(pred1,true))*180/np.pi ]\n",
    "    ang2D_2 += [ np.sign( np.dot(pred2,v2) ) * np.arccos(np.dot(pred2,true))*180/np.pi ]    "
   ]
  },
  {
   "cell_type": "code",
   "execution_count": 39,
   "id": "e105cb78-c097-4cde-beea-e01b1b4836e5",
   "metadata": {},
   "outputs": [],
   "source": [
    "def func(x,sigma):\n",
    "    return 1.0/(sigma*np.sqrt(2*np.pi))*np.e**(-(x**2)/(2*sigma**2))"
   ]
  },
  {
   "cell_type": "code",
   "execution_count": 40,
   "id": "20e7db9b-7e53-4a30-ad95-815fd17f9da1",
   "metadata": {},
   "outputs": [
    {
     "data": {
      "text/plain": [
       "<matplotlib.legend.Legend at 0x2aff63b0d580>"
      ]
     },
     "execution_count": 40,
     "metadata": {},
     "output_type": "execute_result"
    },
    {
     "data": {
      "image/png": "[encoded data removed]",
      "text/plain": [
       "<Figure size 432x288 with 1 Axes>"
      ]
     },
     "metadata": {
      "needs_background": "light"
     },
     "output_type": "display_data"
    }
   ],
   "source": [
    "from scipy.optimize import curve_fit\n",
    "\n",
    "Trim = 2.0\n",
    "\n",
    "#Load data\n",
    "angles = ang2D_1\n",
    "\n",
    "# Trim the distribution\n",
    "p1 = np.percentile(angles,Trim/2.0)\n",
    "p2 = np.percentile(angles,100.0-Trim/2.0)\n",
    "angles2 = []\n",
    "for g in angles:\n",
    "    if g > p1 and g < p2:\n",
    "        angles2 += [g]\n",
    "angles = angles2\n",
    "\n",
    "\n",
    "# Bin the data s.t. the center of the central bin is 0,\n",
    "# the outermost angle is in the center of the outermost bin\n",
    "# and binning is symmetric about 0\n",
    "\n",
    "#num is the number of bins on either side of the gaussian\n",
    "num = 10\n",
    "\n",
    "M1 = np.abs(min(angles))\n",
    "M2 = np.abs(max(angles))\n",
    "M = max(M1,M2)\n",
    "\n",
    "# Make the bin ceneters\n",
    "bin_centers = np.arange(-M,M+(M/num),M/num)\n",
    "# Number of bin centers must be odd but sometimes numpy gives me and extra bin, I throw it out here\n",
    "if len(bin_centers)%2 == 0:\n",
    "    bin_centers = bin_centers[0:(len(bin_centers)-1)]\n",
    "\n",
    "# Make the bin edges\n",
    "bin_edges = []\n",
    "for center in bin_centers:\n",
    "    bin_edges += [center - M/(num*2.0)]\n",
    "bin_edges += [M + M/(num*2.0)]\n",
    "\n",
    "plt.figure()\n",
    "# Bin the data\n",
    "n, bins, patches = plt.hist(angles, density=True , bins=bin_edges)\n",
    "\n",
    "#Ignore bins with no hits\n",
    "bin_centers = bin_centers[n != 0]\n",
    "diffs = np.diff(bins)[n != 0]\n",
    "n = n[n != 0]\n",
    "\n",
    "#Calculate number of hits per bin \n",
    "n_hits = n * (len(angles)*diffs)\n",
    "#Calculate poission error bars on number of hits\n",
    "n_hits_err = np.sqrt(n_hits)\n",
    "#calculate error bars on n\n",
    "n_err = n * (n_hits_err/n_hits)\n",
    "\n",
    "\n",
    "plt.xlabel('Angle [Deg]')\n",
    "plt.ylabel('Probability')\n",
    "plt.errorbar(bin_centers, n, yerr=n_err,fmt='ko')\n",
    "\n",
    "# Fit to binned density function \n",
    "#popt, pcov = curve_fit(func, bin_centers, n,absolute_sigma=True)\n",
    "popt, pcov = curve_fit(func, bin_centers, n, sigma=n_err, absolute_sigma=True)\n",
    "perr = np.sqrt(np.diag(pcov))\n",
    "\n",
    "# Plot the fit \n",
    "xs = np.arange(-M,M,2.0*M/1000)\n",
    "plt.plot(xs,func(xs,*popt),'r-',label='fit: $\\sigma$ = %5.3f $\\pm$ %5.3f, %5.3f percent' % tuple([popt[0],perr[0],perr[0]/popt[0]*100.0]))\n",
    "#plt.plot(xs,func(xs,popt[0]+perr[0]),'r--',label='fit Err high')\n",
    "#plt.plot(xs,func(xs,popt[0]-perr[0]),'r--',label='fit Err low')\n",
    "plt.legend()\n",
    "\n",
    "\n",
    "\n",
    "\n"
   ]
  },
  {
   "cell_type": "code",
   "execution_count": 41,
   "id": "6d236a5a-4979-406a-8ac1-28af4d0ed23b",
   "metadata": {},
   "outputs": [
    {
     "name": "stdout",
     "output_type": "stream",
     "text": [
      " 3D RMS =  65.44275138959314\n"
     ]
    }
   ],
   "source": [
    "print(\" 3D RMS = \", np.sqrt(np.dot(ang3D,ang3D)/len(ang3D)) )"
   ]
  },
  {
   "cell_type": "code",
   "execution_count": 44,
   "id": "772120f9-7ea2-4272-8f9e-ae2b871bca95",
   "metadata": {},
   "outputs": [
    {
     "name": "stdout",
     "output_type": "stream",
     "text": [
      "INFO:tensorflow:Assets written to: /home/majd/CNN_models/3DCNN_model/assets\n"
     ]
    }
   ],
   "source": [
    "# Save the model\n",
    "name = \"3DCNN_model\"\n",
    "model.save(\"/home/majd/CNN_models/\"+name)"
   ]
  },
  {
   "cell_type": "code",
   "execution_count": 45,
   "id": "eb48cfcf-bab2-474c-b05e-003875abebd6",
   "metadata": {},
   "outputs": [],
   "source": [
    "# Load the model\n",
    "#model = keras.models.load_model(\"/home/majd/CNN_models/\"+name)"
   ]
  },
  {
   "cell_type": "code",
   "execution_count": 47,
   "id": "56e1a16c-9895-44ab-8b24-c6984d3db8e2",
   "metadata": {},
   "outputs": [
    {
     "name": "stdout",
     "output_type": "stream",
     "text": [
      " 3D RMS =  65.44275138959314\n"
     ]
    }
   ],
   "source": [
    "print(\" 3D RMS = \", np.sqrt(np.dot(ang3D,ang3D)/len(ang3D)) )"
   ]
  }
 ],
 "metadata": {
  "kernelspec": {
   "display_name": "myenv",
   "language": "python",
   "name": "myenv"
  },
  "language_info": {
   "codemirror_mode": {
    "name": "ipython",
    "version": 3
   },
   "file_extension": ".py",
   "mimetype": "text/x-python",
   "name": "python",
   "nbconvert_exporter": "python",
   "pygments_lexer": "ipython3",
   "version": "3.9.12"
  }
 },
 "nbformat": 4,
 "nbformat_minor": 5
}
