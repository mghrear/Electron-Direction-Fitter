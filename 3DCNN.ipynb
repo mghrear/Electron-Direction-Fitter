{
 "cells": [
  {
   "cell_type": "code",
   "execution_count": 1,
   "id": "cd158c05-d09a-47e1-8881-b8961a269998",
   "metadata": {},
   "outputs": [
    {
     "name": "stderr",
     "output_type": "stream",
     "text": [
      "2022-08-18 21:41:03.606719: I tensorflow/stream_executor/platform/default/dso_loader.cc:49] Successfully opened dynamic library libcudart.so.10.1\n",
      "/home/majd/.conda/envs/myenv/lib/python3.9/site-packages/scipy/__init__.py:146: UserWarning: A NumPy version >=1.16.5 and <1.23.0 is required for this version of SciPy (detected version 1.23.1\n",
      "  warnings.warn(f\"A NumPy version >={np_minversion} and <{np_maxversion}\"\n"
     ]
    }
   ],
   "source": [
    "import numpy as np\n",
    "import matplotlib.pyplot as plt\n",
    "from mpl_toolkits.mplot3d import Axes3D\n",
    "\n",
    "import torch\n",
    "import tensorflow as tf \n",
    "import keras\n",
    "\n",
    "from keras.models import Sequential\n",
    "from keras.layers import Conv3D, MaxPooling3D, Dense, Dropout, Activation, Input, Flatten\n",
    "from keras.utils import np_utils\n",
    "from keras.regularizers import l2\n",
    "from keras.callbacks import EarlyStopping\n",
    "from keras import backend as K\n",
    "from sklearn.model_selection import train_test_split\n"
   ]
  },
  {
   "cell_type": "code",
   "execution_count": 2,
   "id": "a68823dc-290e-440c-abfe-14ece4177437",
   "metadata": {},
   "outputs": [],
   "source": [
    "# First Load the data\n",
    "\n",
    "file_loc = '/home/majd/3D_sparse_tensors'\n",
    "\n",
    "#Collect file names\n",
    "files_sp = []\n",
    "files_lb = []\n",
    "for i in range(100):\n",
    "    files_sp += ['/home/majd/3D_sparse_tensors'+'/sparse_recoils_'+str(i)+'.pt']\n",
    "    files_lb += ['/home/majd/3D_sparse_tensors'+'/labels_'+str(i)+'.pt']\n",
    "    \n",
    "# Load data. X is a list of the sparse tensors and Y is a list of the corresponding true directions\n",
    "X = []\n",
    "Y = []\n",
    "\n",
    "for sp,lb in zip(files_sp,files_lb):\n",
    "    X += torch.load(sp)\n",
    "    Y += np.loadtxt(lb).tolist()\n",
    "\n",
    "# Note: a list of sparse tensors can not be converted into an array. A list of dense tensors can.\n"
   ]
  },
  {
   "cell_type": "code",
   "execution_count": 3,
   "id": "563268a0-63ce-4fc8-9653-91d556ef709b",
   "metadata": {},
   "outputs": [
    {
     "name": "stdout",
     "output_type": "stream",
     "text": [
      "480765 160255 160255\n"
     ]
    }
   ],
   "source": [
    "# Break into train and test sets\n",
    "# There is no need to permute as they are already randomized \n",
    "\n",
    "split1 = int(0.6*len(X))\n",
    "split2 = int(0.8*len(X))\n",
    "\n",
    "X_train = X[:split1]\n",
    "X_valid = X[split1:split2]\n",
    "X_test = X[split2:]\n",
    "\n",
    "Y_train = Y[:split1]\n",
    "Y_valid = Y[split1:split2]\n",
    "Y_test = Y[split2:]\n",
    "\n",
    "print(len(X_train),len(X_valid),len(X_test))"
   ]
  },
  {
   "cell_type": "code",
   "execution_count": 4,
   "id": "1a7bf7cc-e262-463c-8594-59715210b228",
   "metadata": {},
   "outputs": [],
   "source": [
    "# data generator to yield both train and validation data.\n",
    "# it takes ~0.36s to serve up a batch of 200  \n",
    "def data_generator(X, Y, batchsize):\n",
    "    N = len(X)\n",
    "    while True:\n",
    "        \n",
    "        # Select random set of indices for batch\n",
    "        indices = np.random.randint(low=0, high=N, size=(batchsize,))\n",
    "        \n",
    "        # Loop through indices, collect sparse tensor, convert to dense, add to array\n",
    "        # We must use a for loop here as a list of sparse tensors may not be converted into an array\n",
    "        X1 = np.array( [(X[index].to_dense()).detach().numpy() for index in indices] )\n",
    "        Y1 = np.array( [Y[index] for index in indices] )\n",
    "        \n",
    "        # yield tensors and directions\n",
    "        yield X1, Y1\n",
    "        \n",
    "# Create generators.\n",
    "batchsize  = 150\n",
    "data_train = data_generator(X_train, Y_train, batchsize)\n",
    "data_valid = data_generator(X_valid, Y_valid, batchsize)"
   ]
  },
  {
   "cell_type": "code",
   "execution_count": 5,
   "id": "fcddd97e-6068-4ac5-a9d2-1f07cb518d16",
   "metadata": {},
   "outputs": [],
   "source": [
    "# inputs, outputs = data_train.__next__()\n",
    "\n",
    "# print(inputs.shape)\n",
    "# print(outputs.shape)"
   ]
  },
  {
   "cell_type": "code",
   "execution_count": 6,
   "id": "dbf87ff5-9373-49b1-9905-14175019b5f3",
   "metadata": {},
   "outputs": [],
   "source": [
    "def cust_act(x):\n",
    "    return tf.keras.backend.l2_normalize(x, axis=1)"
   ]
  },
  {
   "cell_type": "code",
   "execution_count": 7,
   "id": "72fdcb32-7736-4402-a08b-6d30d7e80cbc",
   "metadata": {},
   "outputs": [],
   "source": [
    "# Creat agent with keras\n",
    "\n",
    "class Agent():\n",
    "    \n",
    "    def __init__(self, learning_rate=0.001, beta_1=0.9, beta_2=0.999, epsilon=1e-07):\n",
    "        # Define CNN architecture here\n",
    "        # We will use a sequential model\n",
    "        self.model = Sequential()\n",
    "        \n",
    "        # Start with Convolutional Layer and max pooling     \n",
    "        self.model.add(Conv3D(50, kernel_size=(6,6,6), strides=(2,2,2), padding = 'same', activation='relu', input_shape=(120, 120, 120, 1)))\n",
    "        self.model.add(MaxPooling3D(pool_size=(2,2,2)))\n",
    "        \n",
    "        self.model.add(Conv3D(30, kernel_size=(4,4,4), strides=(1,1,1), padding = 'same', activation='relu'))        \n",
    "        self.model.add(Conv3D(20, kernel_size=(3,3,3), strides=(1,1,1), padding = 'same', activation='relu'))\n",
    "        \n",
    "        self.model.add(MaxPooling3D(pool_size=(2,2,2)))\n",
    "        \n",
    "        # Flatten the data\n",
    "        self.model.add(Flatten())\n",
    "        \n",
    "        # Dense Layer\n",
    "        self.model.add(Dense(100, activation='relu'))\n",
    "        \n",
    "        self.model.add(Dense(30, activation='tanh'))\n",
    "        \n",
    "        # Output Layer\n",
    "        self.model.add(Dense(3, activation=cust_act))\n",
    "        \n",
    "        # Print CNN architecture summary\n",
    "        self.model.summary()\n",
    "        \n",
    "        # Specificy the optimizer\n",
    "        opt=tf.keras.optimizers.Adam(learning_rate=learning_rate, beta_1=beta_1, beta_2=beta_2, epsilon=epsilon, amsgrad=False, name=\"adam\")\n",
    "        \n",
    "        # Initialize model\n",
    "        self.model.compile(loss=tf.keras.losses.CosineSimilarity(axis=1), optimizer=opt)\n",
    "\n",
    "\n",
    "    def train(self, data_train,data_valid):\n",
    "        \n",
    "        # Implement early stopping to avoild overfitting\n",
    "        stopping  = keras.callbacks.EarlyStopping(monitor='val_loss', patience=2, verbose=0, mode='auto')\n",
    "        callbacks = [stopping]\n",
    "        \n",
    "        # train the model\n",
    "        history = self.model.fit_generator(generator=data_train, steps_per_epoch=100, epochs=200, verbose=1, callbacks=callbacks, validation_data=data_valid, validation_steps=100)\n",
    "        \n",
    "        return history\n",
    "\n",
    "    def predict(self,images):\n",
    "                \n",
    "        # predict initial direction\n",
    "        pred = self.model.predict(images)\n",
    "        \n",
    "        return pred\n",
    "\n"
   ]
  },
  {
   "cell_type": "code",
   "execution_count": 8,
   "id": "34f37da4-c5b6-4f0a-b30d-6b165aedc537",
   "metadata": {},
   "outputs": [
    {
     "name": "stderr",
     "output_type": "stream",
     "text": [
      "2022-08-18 21:42:56.563736: I tensorflow/compiler/jit/xla_cpu_device.cc:41] Not creating XLA devices, tf_xla_enable_xla_devices not set\n",
      "2022-08-18 21:42:56.565270: I tensorflow/stream_executor/platform/default/dso_loader.cc:49] Successfully opened dynamic library libcuda.so.1\n",
      "2022-08-18 21:42:56.622346: I tensorflow/core/common_runtime/gpu/gpu_device.cc:1720] Found device 0 with properties: \n",
      "pciBusID: 0000:8a:00.0 name: Tesla V100-SXM2-32GB computeCapability: 7.0\n",
      "coreClock: 1.53GHz coreCount: 80 deviceMemorySize: 31.75GiB deviceMemoryBandwidth: 836.37GiB/s\n",
      "2022-08-18 21:42:56.622380: I tensorflow/stream_executor/platform/default/dso_loader.cc:49] Successfully opened dynamic library libcudart.so.10.1\n",
      "2022-08-18 21:42:56.625875: I tensorflow/stream_executor/platform/default/dso_loader.cc:49] Successfully opened dynamic library libcublas.so.10\n",
      "2022-08-18 21:42:56.625933: I tensorflow/stream_executor/platform/default/dso_loader.cc:49] Successfully opened dynamic library libcublasLt.so.10\n",
      "2022-08-18 21:42:56.628677: I tensorflow/stream_executor/platform/default/dso_loader.cc:49] Successfully opened dynamic library libcufft.so.10\n",
      "2022-08-18 21:42:56.629304: I tensorflow/stream_executor/platform/default/dso_loader.cc:49] Successfully opened dynamic library libcurand.so.10\n",
      "2022-08-18 21:42:56.632223: I tensorflow/stream_executor/platform/default/dso_loader.cc:49] Successfully opened dynamic library libcusolver.so.10\n",
      "2022-08-18 21:42:56.634229: I tensorflow/stream_executor/platform/default/dso_loader.cc:49] Successfully opened dynamic library libcusparse.so.10\n",
      "2022-08-18 21:42:56.640129: I tensorflow/stream_executor/platform/default/dso_loader.cc:49] Successfully opened dynamic library libcudnn.so.7\n",
      "2022-08-18 21:42:56.641144: I tensorflow/core/common_runtime/gpu/gpu_device.cc:1862] Adding visible gpu devices: 0\n",
      "2022-08-18 21:42:56.641484: I tensorflow/core/platform/cpu_feature_guard.cc:142] This TensorFlow binary is optimized with oneAPI Deep Neural Network Library (oneDNN) to use the following CPU instructions in performance-critical operations:  SSE4.1 SSE4.2 AVX AVX2 AVX512F FMA\n",
      "To enable them in other operations, rebuild TensorFlow with the appropriate compiler flags.\n",
      "2022-08-18 21:42:56.641637: I tensorflow/compiler/jit/xla_gpu_device.cc:99] Not creating XLA devices, tf_xla_enable_xla_devices not set\n",
      "2022-08-18 21:42:56.642190: I tensorflow/core/common_runtime/gpu/gpu_device.cc:1720] Found device 0 with properties: \n",
      "pciBusID: 0000:8a:00.0 name: Tesla V100-SXM2-32GB computeCapability: 7.0\n",
      "coreClock: 1.53GHz coreCount: 80 deviceMemorySize: 31.75GiB deviceMemoryBandwidth: 836.37GiB/s\n",
      "2022-08-18 21:42:56.642230: I tensorflow/stream_executor/platform/default/dso_loader.cc:49] Successfully opened dynamic library libcudart.so.10.1\n",
      "2022-08-18 21:42:56.642269: I tensorflow/stream_executor/platform/default/dso_loader.cc:49] Successfully opened dynamic library libcublas.so.10\n",
      "2022-08-18 21:42:56.642279: I tensorflow/stream_executor/platform/default/dso_loader.cc:49] Successfully opened dynamic library libcublasLt.so.10\n",
      "2022-08-18 21:42:56.642290: I tensorflow/stream_executor/platform/default/dso_loader.cc:49] Successfully opened dynamic library libcufft.so.10\n",
      "2022-08-18 21:42:56.642299: I tensorflow/stream_executor/platform/default/dso_loader.cc:49] Successfully opened dynamic library libcurand.so.10\n",
      "2022-08-18 21:42:56.642308: I tensorflow/stream_executor/platform/default/dso_loader.cc:49] Successfully opened dynamic library libcusolver.so.10\n",
      "2022-08-18 21:42:56.642318: I tensorflow/stream_executor/platform/default/dso_loader.cc:49] Successfully opened dynamic library libcusparse.so.10\n",
      "2022-08-18 21:42:56.642328: I tensorflow/stream_executor/platform/default/dso_loader.cc:49] Successfully opened dynamic library libcudnn.so.7\n",
      "2022-08-18 21:42:56.643241: I tensorflow/core/common_runtime/gpu/gpu_device.cc:1862] Adding visible gpu devices: 0\n",
      "2022-08-18 21:42:56.643268: I tensorflow/stream_executor/platform/default/dso_loader.cc:49] Successfully opened dynamic library libcudart.so.10.1\n",
      "2022-08-18 21:42:57.281180: I tensorflow/core/common_runtime/gpu/gpu_device.cc:1261] Device interconnect StreamExecutor with strength 1 edge matrix:\n",
      "2022-08-18 21:42:57.281215: I tensorflow/core/common_runtime/gpu/gpu_device.cc:1267]      0 \n",
      "2022-08-18 21:42:57.281224: I tensorflow/core/common_runtime/gpu/gpu_device.cc:1280] 0:   N \n",
      "2022-08-18 21:42:57.282773: I tensorflow/core/common_runtime/gpu/gpu_device.cc:1406] Created TensorFlow device (/job:localhost/replica:0/task:0/device:GPU:0 with 30132 MB memory) -> physical GPU (device: 0, name: Tesla V100-SXM2-32GB, pci bus id: 0000:8a:00.0, compute capability: 7.0)\n"
     ]
    },
    {
     "name": "stdout",
     "output_type": "stream",
     "text": [
      "Model: \"sequential\"\n",
      "_________________________________________________________________\n",
      "Layer (type)                 Output Shape              Param #   \n",
      "=================================================================\n",
      "conv3d (Conv3D)              (None, 60, 60, 60, 50)    10850     \n",
      "_________________________________________________________________\n",
      "max_pooling3d (MaxPooling3D) (None, 30, 30, 30, 50)    0         \n",
      "_________________________________________________________________\n",
      "conv3d_1 (Conv3D)            (None, 30, 30, 30, 30)    96030     \n",
      "_________________________________________________________________\n",
      "conv3d_2 (Conv3D)            (None, 30, 30, 30, 20)    16220     \n",
      "_________________________________________________________________\n",
      "max_pooling3d_1 (MaxPooling3 (None, 15, 15, 15, 20)    0         \n",
      "_________________________________________________________________\n",
      "flatten (Flatten)            (None, 67500)             0         \n",
      "_________________________________________________________________\n",
      "dense (Dense)                (None, 100)               6750100   \n",
      "_________________________________________________________________\n",
      "dense_1 (Dense)              (None, 30)                3030      \n",
      "_________________________________________________________________\n",
      "dense_2 (Dense)              (None, 3)                 93        \n",
      "=================================================================\n",
      "Total params: 6,876,323\n",
      "Trainable params: 6,876,323\n",
      "Non-trainable params: 0\n",
      "_________________________________________________________________\n"
     ]
    }
   ],
   "source": [
    "# Create agent object\n",
    "agent = Agent(learning_rate=0.001, beta_1=0.94, beta_2=0.999, epsilon=1e-07) #Specify Optimizer hyperparameters"
   ]
  },
  {
   "cell_type": "code",
   "execution_count": 9,
   "id": "6210fd8d-2226-4157-bced-1b3e190eda49",
   "metadata": {},
   "outputs": [
    {
     "name": "stderr",
     "output_type": "stream",
     "text": [
      "/home/majd/.conda/envs/myenv/lib/python3.9/site-packages/tensorflow/python/keras/engine/training.py:1844: UserWarning: `Model.fit_generator` is deprecated and will be removed in a future version. Please use `Model.fit`, which supports generators.\n",
      "  warnings.warn('`Model.fit_generator` is deprecated and '\n",
      "2022-08-18 21:42:58.320452: I tensorflow/compiler/mlir/mlir_graph_optimization_pass.cc:116] None of the MLIR optimization passes are enabled (registered 2)\n",
      "2022-08-18 21:42:58.320945: I tensorflow/core/platform/profile_utils/cpu_utils.cc:112] CPU Frequency: 3000000000 Hz\n"
     ]
    },
    {
     "name": "stdout",
     "output_type": "stream",
     "text": [
      "Epoch 1/200\n"
     ]
    },
    {
     "name": "stderr",
     "output_type": "stream",
     "text": [
      "2022-08-18 21:42:58.698933: I tensorflow/stream_executor/platform/default/dso_loader.cc:49] Successfully opened dynamic library libcublas.so.10\n",
      "2022-08-18 21:42:58.949373: W tensorflow/core/kernels/gpu_utils.cc:49] Failed to allocate memory for convolution redzone checking; skipping this check. This is benign and only means that we won't check cudnn for out-of-bounds reads and writes. This message will only be printed once.\n",
      "2022-08-18 21:42:58.949835: I tensorflow/stream_executor/platform/default/dso_loader.cc:49] Successfully opened dynamic library libcudnn.so.7\n",
      "2022-08-18 21:43:01.183893: W tensorflow/stream_executor/gpu/asm_compiler.cc:63] Running ptxas --version returned 256\n",
      "2022-08-18 21:43:02.141028: W tensorflow/stream_executor/gpu/redzone_allocator.cc:314] Internal: ptxas exited with non-zero error code 256, output: \n",
      "Relying on driver to perform ptx compilation. \n",
      "Modify $PATH to customize ptxas location.\n",
      "This message will be only logged once.\n"
     ]
    },
    {
     "name": "stdout",
     "output_type": "stream",
     "text": [
      "100/100 [==============================] - 174s 1s/step - loss: -0.2639 - val_loss: -0.4027\n",
      "Epoch 2/200\n",
      "100/100 [==============================] - 144s 1s/step - loss: -0.4068 - val_loss: -0.4418\n",
      "Epoch 3/200\n",
      "100/100 [==============================] - 143s 1s/step - loss: -0.4542 - val_loss: -0.4736\n",
      "Epoch 4/200\n",
      "100/100 [==============================] - 142s 1s/step - loss: -0.4980 - val_loss: -0.5230\n",
      "Epoch 5/200\n",
      "100/100 [==============================] - 142s 1s/step - loss: -0.5233 - val_loss: -0.5562\n",
      "Epoch 6/200\n",
      "100/100 [==============================] - 143s 1s/step - loss: -0.5644 - val_loss: -0.6115\n",
      "Epoch 7/200\n",
      "100/100 [==============================] - 144s 1s/step - loss: -0.6326 - val_loss: -0.6685\n",
      "Epoch 8/200\n",
      "100/100 [==============================] - 144s 1s/step - loss: -0.7057 - val_loss: -0.7220\n",
      "Epoch 9/200\n",
      "100/100 [==============================] - 145s 1s/step - loss: -0.7453 - val_loss: -0.7686\n",
      "Epoch 10/200\n",
      "100/100 [==============================] - 145s 1s/step - loss: -0.7706 - val_loss: -0.7896\n",
      "Epoch 11/200\n",
      "100/100 [==============================] - 145s 1s/step - loss: -0.7962 - val_loss: -0.8004\n",
      "Epoch 12/200\n",
      "100/100 [==============================] - 145s 1s/step - loss: -0.8101 - val_loss: -0.8174\n",
      "Epoch 13/200\n",
      "100/100 [==============================] - 145s 1s/step - loss: -0.8307 - val_loss: -0.8122\n",
      "Epoch 14/200\n",
      "100/100 [==============================] - 146s 1s/step - loss: -0.8285 - val_loss: -0.8370\n",
      "Epoch 15/200\n",
      "100/100 [==============================] - 146s 1s/step - loss: -0.8420 - val_loss: -0.8438\n",
      "Epoch 16/200\n",
      "100/100 [==============================] - 148s 1s/step - loss: -0.8449 - val_loss: -0.8452\n",
      "Epoch 17/200\n",
      "100/100 [==============================] - 148s 1s/step - loss: -0.8525 - val_loss: -0.8466\n",
      "Epoch 18/200\n",
      "100/100 [==============================] - 147s 1s/step - loss: -0.8593 - val_loss: -0.8571\n",
      "Epoch 19/200\n",
      "100/100 [==============================] - 147s 1s/step - loss: -0.8572 - val_loss: -0.8417\n",
      "Epoch 20/200\n",
      "100/100 [==============================] - 149s 1s/step - loss: -0.8670 - val_loss: -0.8643\n",
      "Epoch 21/200\n",
      "100/100 [==============================] - 150s 2s/step - loss: -0.8698 - val_loss: -0.8561\n",
      "Epoch 22/200\n",
      "100/100 [==============================] - 149s 1s/step - loss: -0.8677 - val_loss: -0.8535\n"
     ]
    }
   ],
   "source": [
    "# Train the agent\n",
    "history = agent.train(data_train,data_valid)"
   ]
  },
  {
   "cell_type": "code",
   "execution_count": 10,
   "id": "5e20bf63-4197-4de3-aace-8ce715d3022d",
   "metadata": {},
   "outputs": [
    {
     "data": {
      "text/plain": [
       "<matplotlib.legend.Legend at 0x2ba12b71edc0>"
      ]
     },
     "execution_count": 10,
     "metadata": {},
     "output_type": "execute_result"
    },
    {
     "data": {
      "image/png": "[encoded data removed]",
      "text/plain": [
       "<Figure size 432x288 with 1 Axes>"
      ]
     },
     "metadata": {
      "needs_background": "light"
     },
     "output_type": "display_data"
    }
   ],
   "source": [
    "# Plot loss trajectory throughout training.\n",
    "plt.figure()\n",
    "plt.plot(history.history['loss'], label='Training')\n",
    "plt.plot(history.history['val_loss'], label='Validation')\n",
    "plt.xlabel('Epochs')\n",
    "plt.ylabel('Cosine Similarity Loss')\n",
    "plt.legend()\n",
    "\n",
    "# Validation loss does not increase, so we are not overfitting"
   ]
  },
  {
   "cell_type": "code",
   "execution_count": 36,
   "id": "2b966d4b-966a-4d25-a7ba-8cb5d78494ae",
   "metadata": {},
   "outputs": [
    {
     "data": {
      "text/plain": [
       "(100, 120, 120, 120, 1)"
      ]
     },
     "execution_count": 36,
     "metadata": {},
     "output_type": "execute_result"
    }
   ],
   "source": [
    "# Obtain test set, for now I onluy use 10000 simulations form the test set\n",
    "data_test = data_generator(X_test, Y_test, 100)\n",
    "\n",
    "inputs_test, outputs_test = data_test.__next__()\n",
    "inputs_test.shape"
   ]
  },
  {
   "cell_type": "code",
   "execution_count": 37,
   "id": "e75694c8-95ce-4607-9f06-ab8e5a4a2a2b",
   "metadata": {},
   "outputs": [],
   "source": [
    "# Predict initial directions for test set\n",
    "output_pred = agent.predict(inputs_test)"
   ]
  },
  {
   "cell_type": "code",
   "execution_count": 38,
   "id": "9ddddb7c-d2c4-40e2-99ea-b508365de298",
   "metadata": {},
   "outputs": [
    {
     "name": "stdout",
     "output_type": "stream",
     "text": [
      "mean =  21.949571104366186\n"
     ]
    }
   ],
   "source": [
    "# Compute angles between predicted direction and true direction\n",
    "angs = []\n",
    "for v1,v2 in zip(output_pred,outputs_test):\n",
    "    angs += [np.arccos(np.dot(v1,v2))*180/np.pi]\n",
    "    \n",
    "print( \"mean = \", np.mean(angs) )"
   ]
  },
  {
   "cell_type": "code",
   "execution_count": 39,
   "id": "2c7056aa-c636-4085-9133-8527af450a6c",
   "metadata": {},
   "outputs": [
    {
     "name": "stdout",
     "output_type": "stream",
     "text": [
      "RMS =  26.682532263993426\n"
     ]
    }
   ],
   "source": [
    "# calculate RMS \n",
    "angs =np.array(angs)\n",
    "\n",
    "print(\"RMS = \", np.sqrt(angs.dot(angs)/len(angs)) )\n",
    "# compare to the predicted best achievable "
   ]
  },
  {
   "cell_type": "code",
   "execution_count": 12,
   "id": "d982c47b-fc1a-475e-8331-1d3dc19810ad",
   "metadata": {},
   "outputs": [
    {
     "ename": "TypeError",
     "evalue": "can't convert Sparse layout tensor to numpy.convert the tensor to a strided layout first.",
     "output_type": "error",
     "traceback": [
      "\u001b[0;31m---------------------------------------------------------------------------\u001b[0m",
      "\u001b[0;31mTypeError\u001b[0m                                 Traceback (most recent call last)",
      "Input \u001b[0;32mIn [12]\u001b[0m, in \u001b[0;36m<cell line: 1>\u001b[0;34m()\u001b[0m\n\u001b[0;32m----> 1\u001b[0m tracks \u001b[38;5;241m=\u001b[39m \u001b[43mnp\u001b[49m\u001b[38;5;241;43m.\u001b[39;49m\u001b[43marray\u001b[49m\u001b[43m(\u001b[49m\u001b[43mX_test\u001b[49m\u001b[43m[\u001b[49m\u001b[38;5;241;43m0\u001b[39;49m\u001b[43m:\u001b[49m\u001b[38;5;241;43m10\u001b[39;49m\u001b[43m]\u001b[49m\u001b[43m)\u001b[49m\n",
      "File \u001b[0;32m~/.conda/envs/myenv/lib/python3.9/site-packages/torch/_tensor.py:757\u001b[0m, in \u001b[0;36mTensor.__array__\u001b[0;34m(self, dtype)\u001b[0m\n\u001b[1;32m    755\u001b[0m     \u001b[38;5;28;01mreturn\u001b[39;00m handle_torch_function(Tensor\u001b[38;5;241m.\u001b[39m__array__, (\u001b[38;5;28mself\u001b[39m,), \u001b[38;5;28mself\u001b[39m, dtype\u001b[38;5;241m=\u001b[39mdtype)\n\u001b[1;32m    756\u001b[0m \u001b[38;5;28;01mif\u001b[39;00m dtype \u001b[38;5;129;01mis\u001b[39;00m \u001b[38;5;28;01mNone\u001b[39;00m:\n\u001b[0;32m--> 757\u001b[0m     \u001b[38;5;28;01mreturn\u001b[39;00m \u001b[38;5;28;43mself\u001b[39;49m\u001b[38;5;241;43m.\u001b[39;49m\u001b[43mnumpy\u001b[49m\u001b[43m(\u001b[49m\u001b[43m)\u001b[49m\n\u001b[1;32m    758\u001b[0m \u001b[38;5;28;01melse\u001b[39;00m:\n\u001b[1;32m    759\u001b[0m     \u001b[38;5;28;01mreturn\u001b[39;00m \u001b[38;5;28mself\u001b[39m\u001b[38;5;241m.\u001b[39mnumpy()\u001b[38;5;241m.\u001b[39mastype(dtype, copy\u001b[38;5;241m=\u001b[39m\u001b[38;5;28;01mFalse\u001b[39;00m)\n",
      "\u001b[0;31mTypeError\u001b[0m: can't convert Sparse layout tensor to numpy.convert the tensor to a strided layout first."
     ]
    }
   ],
   "source": [
    "tracks = np.array(X_test[0:10])"
   ]
  },
  {
   "cell_type": "code",
   "execution_count": 49,
   "id": "2475bcde-c587-4689-a977-be1f708ae293",
   "metadata": {},
   "outputs": [],
   "source": [
    "ang3D =[]\n",
    "ang2D_1 = []\n",
    "ang2D_2 = []\n",
    "\n",
    "# Loop through test set\n",
    "for track, label in zip(X_test[0:1000], Y_test[0:1000]):\n",
    "    \n",
    "    # Convert track to dense, one-by-one\n",
    "    dense_track = np.array([(track.to_dense()).detach().numpy()])\n",
    "    \n",
    "    # Predict direction\n",
    "    pred = agent.predict(dense_track)[0]\n",
    "    # Convert label to array\n",
    "    true = np.array(label)\n",
    "    \n",
    "    #create two vectors perpendicular to the true direction\n",
    "    v1 = np.array([true[1],-true[0],0])\n",
    "    v1 = v1/np.linalg.norm(v1)\n",
    "    v2 = np.cross(v1,true)\n",
    "    \n",
    "    # Project prediction onto planes containing (v1,true) (v2,true)\n",
    "    pred1 = np.dot(pred,true)*true + np.dot(pred,v1) * v1\n",
    "    pred1 = pred1/np.linalg.norm(pred1)\n",
    "    pred2 = np.dot(pred,true)*true + np.dot(pred,v2) * v2\n",
    "    pred2 = pred2/np.linalg.norm(pred2)\n",
    "    \n",
    "    #determine angles\n",
    "    ang3D += [np.arccos(np.dot(pred,true))*180/np.pi]\n",
    "    \n",
    "    # need condition to include negatives into sign of theta\n",
    "    ang2D_1 += [ np.sign( np.dot(pred1,v1) ) * np.arccos(np.dot(pred1,true))*180/np.pi ]\n",
    "    ang2D_2 += [ np.sign( np.dot(pred2,v2) ) * np.arccos(np.dot(pred2,true))*180/np.pi ]    "
   ]
  },
  {
   "cell_type": "code",
   "execution_count": 55,
   "id": "e105cb78-c097-4cde-beea-e01b1b4836e5",
   "metadata": {},
   "outputs": [],
   "source": [
    "def func(x,sigma):\n",
    "    return 1.0/(sigma*np.sqrt(2*np.pi))*np.e**(-(x**2)/(2*sigma**2))"
   ]
  },
  {
   "cell_type": "code",
   "execution_count": 58,
   "id": "20e7db9b-7e53-4a30-ad95-815fd17f9da1",
   "metadata": {},
   "outputs": [
    {
     "data": {
      "text/plain": [
       "<matplotlib.legend.Legend at 0x2ba9a548db80>"
      ]
     },
     "execution_count": 58,
     "metadata": {},
     "output_type": "execute_result"
    },
    {
     "data": {
      "image/png": "[encoded data removed]",
      "text/plain": [
       "<Figure size 432x288 with 1 Axes>"
      ]
     },
     "metadata": {
      "needs_background": "light"
     },
     "output_type": "display_data"
    }
   ],
   "source": [
    "from scipy.optimize import curve_fit\n",
    "\n",
    "Trim = 2.0\n",
    "\n",
    "#Load data\n",
    "angles = ang2D_1\n",
    "\n",
    "# Trim the distribution\n",
    "p1 = np.percentile(angles,Trim/2.0)\n",
    "p2 = np.percentile(angles,100.0-Trim/2.0)\n",
    "angles2 = []\n",
    "for g in angles:\n",
    "\tif g > p1 and g < p2:\n",
    "\t\tangles2 += [g]\n",
    "angles = angles2\n",
    "\n",
    "\n",
    "# Bin the data s.t. the center of the central bin is 0,\n",
    "# the outermost angle is in the center of the outermost bin\n",
    "# and binning is symmetric about 0\n",
    "\n",
    "#num is the number of bins on either side of the gaussian\n",
    "num = 10\n",
    "\n",
    "M1 = np.abs(min(angles))\n",
    "M2 = np.abs(max(angles))\n",
    "M = max(M1,M2)\n",
    "\n",
    "# Make the bin ceneters\n",
    "bin_centers = np.arange(-M,M+(M/num),M/num)\n",
    "# Number of bin centers must be odd but sometimes numpy gives me and extra bin, I throw it out here\n",
    "if len(bin_centers)%2 == 0:\n",
    "    bin_centers = bin_centers[0:(len(bin_centers)-1)]\n",
    "\n",
    "# Make the bin edges\n",
    "bin_edges = []\n",
    "for center in bin_centers:\n",
    "    bin_edges += [center - M/(num*2.0)]\n",
    "bin_edges += [M + M/(num*2.0)]\n",
    "\n",
    "plt.figure()\n",
    "# Bin the data\n",
    "n, bins, patches = plt.hist(angles, density=True , bins=bin_edges)\n",
    "\n",
    "#Ignore bins with no hits\n",
    "bin_centers = bin_centers[n != 0]\n",
    "diffs = np.diff(bins)[n != 0]\n",
    "n = n[n != 0]\n",
    "\n",
    "#Calculate number of hits per bin \n",
    "n_hits = n * (len(angles)*diffs)\n",
    "#Calculate poission error bars on number of hits\n",
    "n_hits_err = np.sqrt(n_hits)\n",
    "#calculate error bars on n\n",
    "n_err = n * (n_hits_err/n_hits)\n",
    "\n",
    "\n",
    "plt.xlabel('Angle [Deg]')\n",
    "plt.ylabel('Probability')\n",
    "plt.errorbar(bin_centers, n, yerr=n_err,fmt='ko')\n",
    "\n",
    "# Fit to binned density function \n",
    "#popt, pcov = curve_fit(func, bin_centers, n,absolute_sigma=True)\n",
    "popt, pcov = curve_fit(func, bin_centers, n, sigma=n_err, absolute_sigma=True)\n",
    "perr = np.sqrt(np.diag(pcov))\n",
    "\n",
    "# Plot the fit \n",
    "xs = np.arange(-M,M,2.0*M/1000)\n",
    "plt.plot(xs,func(xs,*popt),'r-',label='fit: $\\sigma$ = %5.3f $\\pm$ %5.3f, %5.3f percent' % tuple([popt[0],perr[0],perr[0]/popt[0]*100.0]))\n",
    "#plt.plot(xs,func(xs,popt[0]+perr[0]),'r--',label='fit Err high')\n",
    "#plt.plot(xs,func(xs,popt[0]-perr[0]),'r--',label='fit Err low')\n",
    "plt.legend()\n",
    "\n",
    "\n",
    "\n",
    "\n"
   ]
  },
  {
   "cell_type": "code",
   "execution_count": null,
   "id": "6d236a5a-4979-406a-8ac1-28af4d0ed23b",
   "metadata": {},
   "outputs": [],
   "source": []
  }
 ],
 "metadata": {
  "kernelspec": {
   "display_name": "myenv",
   "language": "python",
   "name": "myenv"
  },
  "language_info": {
   "codemirror_mode": {
    "name": "ipython",
    "version": 3
   },
   "file_extension": ".py",
   "mimetype": "text/x-python",
   "name": "python",
   "nbconvert_exporter": "python",
   "pygments_lexer": "ipython3",
   "version": "3.9.12"
  }
 },
 "nbformat": 4,
 "nbformat_minor": 5
}
