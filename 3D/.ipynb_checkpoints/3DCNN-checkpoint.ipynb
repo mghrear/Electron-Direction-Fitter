{
 "cells": [
  {
   "cell_type": "code",
   "execution_count": null,
   "id": "cd158c05-d09a-47e1-8881-b8961a269998",
   "metadata": {},
   "outputs": [],
   "source": [
    "import numpy as np\n",
    "import matplotlib.pyplot as plt\n",
    "from mpl_toolkits.mplot3d import Axes3D\n",
    "\n",
    "import torch\n",
    "import tensorflow as tf \n",
    "import keras\n",
    "\n",
    "from keras.models import Sequential\n",
    "from keras.layers import Conv3D, MaxPooling3D, Dense, Dropout, Activation, Input, Flatten\n",
    "from keras.utils import np_utils\n",
    "from keras.regularizers import l2\n",
    "from keras.callbacks import EarlyStopping\n",
    "from keras import backend as K\n",
    "from sklearn.model_selection import train_test_split\n"
   ]
  },
  {
   "cell_type": "code",
   "execution_count": null,
   "id": "a68823dc-290e-440c-abfe-14ece4177437",
   "metadata": {},
   "outputs": [],
   "source": [
    "# First Load the data\n",
    "\n",
    "#test again\n",
    "\n",
    "#Collect file names\n",
    "files_sp = []\n",
    "files_lb = []\n",
    "for i in range(100):\n",
    "    files_sp += ['./sparse_data/sparse_recoils_'+str(i)+'.pt']\n",
    "    files_lb += ['./sparse_data/labels_'+str(i)+'.pt']\n",
    "    \n",
    "# Load data. X is a list of the sparse tensors and Y is a list of the corresponding true directions\n",
    "X = []\n",
    "Y = []\n",
    "\n",
    "for sp,lb in zip(files_sp,files_lb):\n",
    "    X += torch.load(sp)\n",
    "    Y += np.loadtxt(lb).tolist()\n",
    "\n",
    "# Note: a list of sparse tensors can not be converted into an array. A list of dense tensors can.\n"
   ]
  },
  {
   "cell_type": "code",
   "execution_count": null,
   "id": "563268a0-63ce-4fc8-9653-91d556ef709b",
   "metadata": {},
   "outputs": [
    {
     "name": "stdout",
     "output_type": "stream",
     "text": [
      "339625 113208 113209\n"
     ]
    }
   ],
   "source": [
    "# Break into train and test sets\n",
    "# The is no need to permute as they are already randomized \n",
    "\n",
    "split1 = int(0.6*len(X))\n",
    "split2 = int(0.8*len(X))\n",
    "\n",
    "X_train = X[:split1]\n",
    "X_valid = X[split1:split2]\n",
    "X_test = X[split2:]\n",
    "\n",
    "Y_train = Y[:split1]\n",
    "Y_valid = Y[split1:split2]\n",
    "Y_test = Y[split2:]\n",
    "\n",
    "print(len(X_train),len(X_valid),len(X_test))"
   ]
  },
  {
   "cell_type": "code",
   "execution_count": null,
   "id": "1a7bf7cc-e262-463c-8594-59715210b228",
   "metadata": {},
   "outputs": [],
   "source": [
    "# data generator to yield both train and validation data.\n",
    "# it takes ~0.36s to serve up a batch of 200  \n",
    "def data_generator(X, Y, batchsize):\n",
    "    N = len(X)\n",
    "    while True:\n",
    "        # We must use a for loop here as a list of sparse tensors may not be converted into an array\n",
    "        indices = np.random.randint(low=0, high=N, size=(batchsize,))\n",
    "        X1 = [X[index] for index in indices]\n",
    "        Y1 = np.array([Y[index] for index in indices])\n",
    "        \n",
    "        # We must use a for loop here as a list of sparse tensors may not be converted into an array\n",
    "        X_dense = [(X_sparse.to_dense()).detach().numpy() for X_sparse in X1]\n",
    "        \n",
    "        #Now that the tensors are dense we convert into an array\n",
    "        X_dense = np.array(X_dense)\n",
    "        \n",
    "        # yield tensors and directions\n",
    "        yield X_dense, Y1\n",
    "        \n",
    "# Create generators.\n",
    "batchsize  = 200 \n",
    "data_train = data_generator(X_train, Y_train, batchsize)\n",
    "data_valid = data_generator(X_valid, Y_valid, batchsize)"
   ]
  },
  {
   "cell_type": "code",
   "execution_count": null,
   "id": "fcddd97e-6068-4ac5-a9d2-1f07cb518d16",
   "metadata": {},
   "outputs": [],
   "source": [
    "inputs, outputs = data_train.__next__()"
   ]
  },
  {
   "cell_type": "code",
   "execution_count": null,
   "id": "a49bc5fd-a6f2-4a7a-a21f-b4b95b4a909c",
   "metadata": {},
   "outputs": [
    {
     "name": "stdout",
     "output_type": "stream",
     "text": [
      "(200, 50, 50, 50, 1)\n",
      "(200, 3)\n"
     ]
    }
   ],
   "source": [
    "print(inputs.shape)\n",
    "print(outputs.shape)"
   ]
  },
  {
   "cell_type": "code",
   "execution_count": null,
   "id": "dbf87ff5-9373-49b1-9905-14175019b5f3",
   "metadata": {},
   "outputs": [],
   "source": [
    "def cust_act(x):\n",
    "    return tf.keras.backend.l2_normalize(x, axis=1)"
   ]
  },
  {
   "cell_type": "code",
   "execution_count": null,
   "id": "72fdcb32-7736-4402-a08b-6d30d7e80cbc",
   "metadata": {},
   "outputs": [],
   "source": [
    "# Creat agent with keras\n",
    "\n",
    "class Agent():\n",
    "    \n",
    "    def __init__(self, learning_rate=0.001, beta_1=0.9, beta_2=0.999, epsilon=1e-07):\n",
    "        # Define CNN architecture here\n",
    "        # We will use a sequential model\n",
    "        self.model = Sequential()\n",
    "        \n",
    "        # Start with Convolutional Layer and max pooling     \n",
    "        self.model.add(Conv3D(50, kernel_size=(4,4,4), strides=(1,1,1), padding = 'same', activation='relu', input_shape=(50, 50, 50, 1)))\n",
    "        \n",
    "        self.model.add(MaxPooling3D(pool_size=(2,2,2)))\n",
    "        \n",
    "        self.model.add(Conv3D(40, kernel_size=(3,3,3), strides=(1,1,1), padding = 'same', activation='relu'))\n",
    "        self.model.add(Conv3D(20, kernel_size=(2,2,2), strides=(1,1,1), padding = 'same', activation='relu'))\n",
    "        \n",
    "        self.model.add(MaxPooling3D(pool_size=(2,2,2)))\n",
    "        \n",
    "        # Flatten the data\n",
    "        self.model.add(Flatten())\n",
    "        \n",
    "        # Dense Layer\n",
    "        self.model.add(Dense(100, activation='relu'))\n",
    "        \n",
    "        self.model.add(Dense(30, activation='tanh'))\n",
    "        \n",
    "        # Output Layer\n",
    "        self.model.add(Dense(3, activation=cust_act))\n",
    "        \n",
    "        # Print CNN architecture summary\n",
    "        self.model.summary()\n",
    "        \n",
    "        # Specificy the optimizer\n",
    "        opt=tf.keras.optimizers.Adam(learning_rate=learning_rate, beta_1=beta_1, beta_2=beta_2, epsilon=epsilon, amsgrad=False, name=\"adam\")\n",
    "        \n",
    "        # Initialize model\n",
    "        self.model.compile(loss=tf.keras.losses.CosineSimilarity(axis=1), optimizer=opt)\n",
    "\n",
    "\n",
    "    def train(self, data_train,data_valid):\n",
    "        \n",
    "        # Implement early stopping to avoild overfitting\n",
    "        stopping  = keras.callbacks.EarlyStopping(monitor='val_loss', patience=2, verbose=0, mode='auto')\n",
    "        callbacks = [stopping]\n",
    "        \n",
    "        # train the model\n",
    "        history = self.model.fit_generator(generator=data_train, steps_per_epoch=20, epochs=100, verbose=1, callbacks=callbacks, validation_data=data_valid, validation_steps=100)\n",
    "        \n",
    "        return history\n",
    "\n",
    "    def predict(self,images):\n",
    "                \n",
    "        # predict initial direction\n",
    "        pred = self.model.predict(images)\n",
    "        \n",
    "        return pred\n",
    "\n"
   ]
  },
  {
   "cell_type": "code",
   "execution_count": null,
   "id": "34f37da4-c5b6-4f0a-b30d-6b165aedc537",
   "metadata": {},
   "outputs": [
    {
     "name": "stdout",
     "output_type": "stream",
     "text": [
      "Model: \"sequential_6\"\n",
      "_________________________________________________________________\n",
      "Layer (type)                 Output Shape              Param #   \n",
      "=================================================================\n",
      "conv3d_18 (Conv3D)           (None, 100, 100, 100, 50) 6300      \n",
      "_________________________________________________________________\n",
      "max_pooling3d_12 (MaxPooling (None, 50, 50, 50, 50)    0         \n",
      "_________________________________________________________________\n",
      "conv3d_19 (Conv3D)           (None, 50, 50, 50, 40)    54040     \n",
      "_________________________________________________________________\n",
      "conv3d_20 (Conv3D)           (None, 50, 50, 50, 20)    6420      \n",
      "_________________________________________________________________\n",
      "max_pooling3d_13 (MaxPooling (None, 25, 25, 25, 20)    0         \n",
      "_________________________________________________________________\n",
      "flatten_6 (Flatten)          (None, 312500)            0         \n",
      "_________________________________________________________________\n",
      "dense_18 (Dense)             (None, 100)               31250100  \n",
      "_________________________________________________________________\n",
      "dense_19 (Dense)             (None, 30)                3030      \n",
      "_________________________________________________________________\n",
      "dense_20 (Dense)             (None, 3)                 93        \n",
      "=================================================================\n",
      "Total params: 31,319,983\n",
      "Trainable params: 31,319,983\n",
      "Non-trainable params: 0\n",
      "_________________________________________________________________\n"
     ]
    }
   ],
   "source": [
    "# Create agent object\n",
    "agent = Agent(learning_rate=0.001, beta_1=0.94, beta_2=0.999, epsilon=1e-07) #Specify Optimizer hyperparameters"
   ]
  },
  {
   "cell_type": "code",
   "execution_count": 15,
   "id": "6210fd8d-2226-4157-bced-1b3e190eda49",
   "metadata": {},
   "outputs": [
    {
     "name": "stdout",
     "output_type": "stream",
     "text": [
      "Epoch 1/100\n",
      "20/20 [==============================] - 26s 1s/step - loss: -0.0541 - val_loss: -0.1591\n",
      "Epoch 2/100\n",
      "20/20 [==============================] - 27s 1s/step - loss: -0.1547 - val_loss: -0.1766\n",
      "Epoch 3/100\n",
      "20/20 [==============================] - 27s 1s/step - loss: -0.1886 - val_loss: -0.1911\n",
      "Epoch 4/100\n",
      "20/20 [==============================] - 26s 1s/step - loss: -0.1845 - val_loss: -0.2067\n",
      "Epoch 5/100\n",
      "20/20 [==============================] - 27s 1s/step - loss: -0.2070 - val_loss: -0.2073\n",
      "Epoch 6/100\n",
      "20/20 [==============================] - 26s 1s/step - loss: -0.2067 - val_loss: -0.2099\n",
      "Epoch 7/100\n",
      "20/20 [==============================] - 27s 1s/step - loss: -0.1838 - val_loss: -0.2264\n",
      "Epoch 8/100\n",
      "20/20 [==============================] - 26s 1s/step - loss: -0.2361 - val_loss: -0.2477\n",
      "Epoch 9/100\n",
      "20/20 [==============================] - 26s 1s/step - loss: -0.2580 - val_loss: -0.2993\n",
      "Epoch 10/100\n",
      "20/20 [==============================] - 25s 1s/step - loss: -0.3196 - val_loss: -0.3553\n",
      "Epoch 11/100\n",
      "20/20 [==============================] - 26s 1s/step - loss: -0.3583 - val_loss: -0.3656\n",
      "Epoch 12/100\n",
      "20/20 [==============================] - 27s 1s/step - loss: -0.3825 - val_loss: -0.3939\n",
      "Epoch 13/100\n",
      "20/20 [==============================] - 26s 1s/step - loss: -0.3855 - val_loss: -0.3933\n",
      "Epoch 14/100\n",
      "20/20 [==============================] - 26s 1s/step - loss: -0.4239 - val_loss: -0.4104\n",
      "Epoch 15/100\n",
      "20/20 [==============================] - 26s 1s/step - loss: -0.4083 - val_loss: -0.4282\n",
      "Epoch 16/100\n",
      "20/20 [==============================] - 27s 1s/step - loss: -0.4432 - val_loss: -0.4374\n",
      "Epoch 17/100\n",
      "20/20 [==============================] - 26s 1s/step - loss: -0.4442 - val_loss: -0.4373\n",
      "Epoch 18/100\n",
      "20/20 [==============================] - 26s 1s/step - loss: -0.4557 - val_loss: -0.4512\n",
      "Epoch 19/100\n",
      "20/20 [==============================] - 26s 1s/step - loss: -0.4647 - val_loss: -0.4783\n",
      "Epoch 20/100\n",
      "20/20 [==============================] - 26s 1s/step - loss: -0.4738 - val_loss: -0.4946\n",
      "Epoch 21/100\n",
      "20/20 [==============================] - 26s 1s/step - loss: -0.4917 - val_loss: -0.5187\n",
      "Epoch 22/100\n",
      "20/20 [==============================] - 26s 1s/step - loss: -0.5271 - val_loss: -0.5314\n",
      "Epoch 23/100\n",
      "20/20 [==============================] - 27s 1s/step - loss: -0.5581 - val_loss: -0.5660\n",
      "Epoch 24/100\n",
      "20/20 [==============================] - 26s 1s/step - loss: -0.5673 - val_loss: -0.5698\n",
      "Epoch 25/100\n",
      "20/20 [==============================] - 27s 1s/step - loss: -0.5821 - val_loss: -0.5968\n",
      "Epoch 26/100\n",
      "20/20 [==============================] - 26s 1s/step - loss: -0.6199 - val_loss: -0.6228\n",
      "Epoch 27/100\n",
      "20/20 [==============================] - 26s 1s/step - loss: -0.6422 - val_loss: -0.6446\n",
      "Epoch 28/100\n",
      "20/20 [==============================] - 26s 1s/step - loss: -0.6464 - val_loss: -0.6630\n",
      "Epoch 29/100\n",
      "20/20 [==============================] - 26s 1s/step - loss: -0.6650 - val_loss: -0.6634\n",
      "Epoch 30/100\n",
      "20/20 [==============================] - 27s 1s/step - loss: -0.6454 - val_loss: -0.6503\n",
      "Epoch 31/100\n",
      "20/20 [==============================] - 27s 1s/step - loss: -0.6657 - val_loss: -0.6868\n",
      "Epoch 32/100\n",
      "20/20 [==============================] - 27s 1s/step - loss: -0.7081 - val_loss: -0.6955\n",
      "Epoch 33/100\n",
      "20/20 [==============================] - 26s 1s/step - loss: -0.7031 - val_loss: -0.7002\n",
      "Epoch 34/100\n",
      "20/20 [==============================] - 27s 1s/step - loss: -0.7202 - val_loss: -0.7215\n",
      "Epoch 35/100\n",
      "20/20 [==============================] - 27s 1s/step - loss: -0.7441 - val_loss: -0.7395\n",
      "Epoch 36/100\n",
      "20/20 [==============================] - 26s 1s/step - loss: -0.7468 - val_loss: -0.7425\n",
      "Epoch 37/100\n",
      "20/20 [==============================] - 26s 1s/step - loss: -0.7467 - val_loss: -0.7519\n",
      "Epoch 38/100\n",
      "20/20 [==============================] - 26s 1s/step - loss: -0.7600 - val_loss: -0.7468\n",
      "Epoch 39/100\n",
      "20/20 [==============================] - 26s 1s/step - loss: -0.7531 - val_loss: -0.7568\n",
      "Epoch 40/100\n",
      "20/20 [==============================] - 26s 1s/step - loss: -0.7510 - val_loss: -0.7578\n",
      "Epoch 41/100\n",
      "20/20 [==============================] - 26s 1s/step - loss: -0.7630 - val_loss: -0.7638\n",
      "Epoch 42/100\n",
      "20/20 [==============================] - 26s 1s/step - loss: -0.7697 - val_loss: -0.7705\n",
      "Epoch 43/100\n",
      "20/20 [==============================] - 26s 1s/step - loss: -0.7881 - val_loss: -0.7854\n",
      "Epoch 44/100\n",
      "20/20 [==============================] - 26s 1s/step - loss: -0.7886 - val_loss: -0.7684\n",
      "Epoch 45/100\n",
      "20/20 [==============================] - 26s 1s/step - loss: -0.7876 - val_loss: -0.7918\n",
      "Epoch 46/100\n",
      "20/20 [==============================] - 26s 1s/step - loss: -0.7940 - val_loss: -0.7920\n",
      "Epoch 47/100\n",
      "20/20 [==============================] - 26s 1s/step - loss: -0.7872 - val_loss: -0.7884\n",
      "Epoch 48/100\n",
      "20/20 [==============================] - 26s 1s/step - loss: -0.7900 - val_loss: -0.8026\n",
      "Epoch 49/100\n",
      "20/20 [==============================] - 27s 1s/step - loss: -0.8064 - val_loss: -0.7998\n",
      "Epoch 50/100\n",
      "20/20 [==============================] - 27s 1s/step - loss: -0.8193 - val_loss: -0.8121\n",
      "Epoch 51/100\n",
      "20/20 [==============================] - 27s 1s/step - loss: -0.8057 - val_loss: -0.8016\n",
      "Epoch 52/100\n",
      "20/20 [==============================] - 26s 1s/step - loss: -0.8138 - val_loss: -0.8215\n",
      "Epoch 53/100\n",
      "20/20 [==============================] - 26s 1s/step - loss: -0.8145 - val_loss: -0.8195\n",
      "Epoch 54/100\n",
      "20/20 [==============================] - 26s 1s/step - loss: -0.8262 - val_loss: -0.8149\n"
     ]
    }
   ],
   "source": [
    "# Train the agent\n",
    "history = agent.train(data_train,data_valid)"
   ]
  },
  {
   "cell_type": "code",
   "execution_count": 16,
   "id": "5e20bf63-4197-4de3-aace-8ce715d3022d",
   "metadata": {},
   "outputs": [
    {
     "data": {
      "text/plain": [
       "<matplotlib.legend.Legend at 0x2b757f799d60>"
      ]
     },
     "execution_count": 16,
     "metadata": {},
     "output_type": "execute_result"
    },
    {
     "data": {
      "image/png": "[encoded data removed]",
      "text/plain": [
       "<Figure size 432x288 with 1 Axes>"
      ]
     },
     "metadata": {
      "needs_background": "light"
     },
     "output_type": "display_data"
    }
   ],
   "source": [
    "# Plot loss trajectory throughout training.\n",
    "plt.figure()\n",
    "plt.plot(history.history['loss'], label='Training')\n",
    "plt.plot(history.history['val_loss'], label='Validation')\n",
    "plt.xlabel('Epochs')\n",
    "plt.ylabel('Cosine Similarity Loss')\n",
    "plt.legend()\n",
    "\n",
    "# Validation loss does not increase, so we are not overfitting"
   ]
  },
  {
   "cell_type": "code",
   "execution_count": 17,
   "id": "2b966d4b-966a-4d25-a7ba-8cb5d78494ae",
   "metadata": {},
   "outputs": [
    {
     "data": {
      "text/plain": [
       "(100, 50, 50, 50, 1)"
      ]
     },
     "execution_count": 17,
     "metadata": {},
     "output_type": "execute_result"
    }
   ],
   "source": [
    "# Obtain test set, for now I onluy use 10000 simulations form the test set\n",
    "data_test = data_generator(X_test, Y_test, 100)\n",
    "\n",
    "inputs_test, outputs_test = data_test.__next__()\n",
    "inputs_test.shape"
   ]
  },
  {
   "cell_type": "code",
   "execution_count": 18,
   "id": "e75694c8-95ce-4607-9f06-ab8e5a4a2a2b",
   "metadata": {},
   "outputs": [],
   "source": [
    "# Predict initial directions for test set\n",
    "output_pred = agent.predict(inputs_test)"
   ]
  },
  {
   "cell_type": "code",
   "execution_count": 19,
   "id": "9ddddb7c-d2c4-40e2-99ea-b508365de298",
   "metadata": {},
   "outputs": [
    {
     "name": "stdout",
     "output_type": "stream",
     "text": [
      "mean =  28.420815204335916\n"
     ]
    }
   ],
   "source": [
    "# Compute angles between predicted direction and true direction\n",
    "angs = []\n",
    "for v1,v2 in zip(output_pred,outputs_test):\n",
    "    angs += [np.arccos(np.dot(v1,v2))*180/np.pi]\n",
    "    \n",
    "print( \"mean = \", np.mean(angs) )"
   ]
  },
  {
   "cell_type": "code",
   "execution_count": 20,
   "id": "2c7056aa-c636-4085-9133-8527af450a6c",
   "metadata": {},
   "outputs": [
    {
     "name": "stdout",
     "output_type": "stream",
     "text": [
      "RMS =  35.49216636424472\n"
     ]
    }
   ],
   "source": [
    "# calculate RMS \n",
    "angs =np.array(angs)\n",
    "\n",
    "print(\"RMS = \", np.sqrt(angs.dot(angs)/len(angs)) )\n",
    "# compare to the predicted best achievable "
   ]
  },
  {
   "cell_type": "code",
   "execution_count": null,
   "id": "20e7db9b-7e53-4a30-ad95-815fd17f9da1",
   "metadata": {},
   "outputs": [],
   "source": []
  }
 ],
 "metadata": {
  "kernelspec": {
   "display_name": "myenv",
   "language": "python",
   "name": "myenv"
  },
  "language_info": {
   "codemirror_mode": {
    "name": "ipython",
    "version": 3
   },
   "file_extension": ".py",
   "mimetype": "text/x-python",
   "name": "python",
   "nbconvert_exporter": "python",
   "pygments_lexer": "ipython3",
   "version": "3.9.12"
  }
 },
 "nbformat": 4,
 "nbformat_minor": 5
}
